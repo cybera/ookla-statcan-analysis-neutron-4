{
 "cells": [
  {
   "cell_type": "markdown",
   "metadata": {},
   "source": [
    "# Summary \n",
    "Generates the geojson hexes+dissolved cities file.\n",
    "\n",
    "Demonstrates calculation of 50/10 access levels from the NBD map data against arbitrary \n",
    "geometry other than the precomputed hexagons.\n",
    "\n",
    "Calculating this requires joining the geometry from the Canada wide hexagons geometry \n",
    "with the tabular `PHH_Speeds_Current-PHH_Vitesses_Actuelles.csv` dataset. \n",
    "\n",
    "Loading the data and executing the spatial joins takes a total of 7 minutes."
   ]
  },
  {
   "cell_type": "code",
   "execution_count": null,
   "metadata": {
    "tags": []
   },
   "outputs": [],
   "source": [
    "import sys\n",
    "sys.path.append(\"..\")\n",
    "\n",
    "%load_ext autoreload\n",
    "%autoreload 1\n",
    "%aimport src.datasets.joins\n",
    "%aimport src.datasets.loading.statcan"
   ]
  },
  {
   "cell_type": "code",
   "execution_count": null,
   "metadata": {
    "tags": []
   },
   "outputs": [],
   "source": [
    "import numpy as np\n",
    "import pandas as pd\n",
    "import matplotlib.pyplot as plt \n",
    "from src.datasets.loading import statcan\n",
    "from src.datasets.loading import ookla\n",
    "from src.datasets import overlays\n",
    "\n",
    "from src.datasets import joins\n",
    "import src"
   ]
  },
  {
   "cell_type": "code",
   "execution_count": null,
   "metadata": {
    "tags": []
   },
   "outputs": [],
   "source": [
    "popctrs = statcan.boundary('population_centres')"
   ]
  },
  {
   "cell_type": "code",
   "execution_count": null,
   "metadata": {
    "tags": []
   },
   "outputs": [],
   "source": [
    "popctrs.loc[lambda s:s.PCNAME == \"Lloydminster\"]"
   ]
  },
  {
   "cell_type": "code",
   "execution_count": null,
   "metadata": {
    "tags": []
   },
   "outputs": [],
   "source": [
    "custom_areas = joins.hexagons_small_popctrs_combined()\n",
    "o = custom_areas"
   ]
  },
  {
   "cell_type": "code",
   "execution_count": null,
   "metadata": {
    "tags": []
   },
   "outputs": [],
   "source": [
    "#phh_speed_csv = src.config.DATA_DIRECTORY / 'PHH' / 'CRTC_Speed_Data' / 'PHH_Speeds_Current-PHH_Vitesses_Actuelles.csv'\n",
    "#phh_speeds = pd.read_csv(phh_speed_csv)\n",
    "#phh_speeds = statcan.phh_csv_data()\n",
    "#phh_geo = statcan.phh_geometry()\n",
    "#phh = phh_geo.merge(phh_speeds, on='PHH_ID')\n",
    "#phh = phh.merge(statcan.phh_data(), on='PHH_ID')\n",
    "#phh = phh.loc[lambda s:s.Type !=8] # drop PHH nulls\n",
    "\n",
    "phh = statcan.phh_geometry().merge(statcan.phh_data(), on='PHH_ID')\n",
    "phh = phh.loc[lambda s:s.Type !=8] # drop PHH nulls"
   ]
  },
  {
   "cell_type": "code",
   "execution_count": null,
   "metadata": {},
   "outputs": [],
   "source": [
    "o = joins.add_phh_pop(custom_areas, phh, 'HEXUID_PCPUID')"
   ]
  },
  {
   "cell_type": "code",
   "execution_count": null,
   "metadata": {},
   "outputs": [],
   "source": [
    "del o['HEXuid_HEXidu'] # we don't want these, they're quite long in large cities"
   ]
  },
  {
   "cell_type": "code",
   "execution_count": null,
   "metadata": {},
   "outputs": [],
   "source": [
    "popctrs = statcan.boundary('population_centres') # use this to generate a filtering region around cities"
   ]
  },
  {
   "cell_type": "code",
   "execution_count": null,
   "metadata": {},
   "outputs": [],
   "source": [
    "#Can't plot the whole country, too many hexagons.\n",
    "xmin, ymin, xmax, ymax = popctrs.loc[lambda s:s.PCNAME==\"Lloydminster\"].buffer(100000).total_bounds\n",
    "o.cx[xmin:xmax,ymin:ymax].loc[lambda s:(s['Pop2016'] > 0) | (s['TDwell2016_TLog2016'] > 0) | (s['URDwell2016_RH2016']>0)].explore('Pop_Avail_50_10',  scheme='equalinterval', k = 4,)"
   ]
  },
  {
   "cell_type": "code",
   "execution_count": null,
   "metadata": {},
   "outputs": [],
   "source": [
    "zeroable_cols = [\n",
    "    'Pop2016', 'TDwell2016_TLog2016', 'URDwell2016_RH2016',\n",
    "    'Pop2016_at_50_10_Combined', 'TDwell2016_at_50_10_Combined',\n",
    "    'URDwell_at_50_10_Combined'\n",
    "       ]\n",
    "o[zeroable_cols] = o[zeroable_cols].fillna(0)"
   ]
  },
  {
   "cell_type": "code",
   "execution_count": null,
   "metadata": {},
   "outputs": [],
   "source": [
    "o"
   ]
  },
  {
   "cell_type": "code",
   "execution_count": null,
   "metadata": {},
   "outputs": [],
   "source": [
    "from pathlib import Path\n",
    "from src import config"
   ]
  },
  {
   "cell_type": "code",
   "execution_count": null,
   "metadata": {},
   "outputs": [],
   "source": [
    "derived_geometry = (Path(src.config.DATA_DIRECTORY) / 'processed' / 'geometries').resolve()\n",
    "derived_geometry.mkdir(exist_ok=True, parents=True)\n",
    "\n",
    "o.to_crs(\"EPSG:4326\").to_file(derived_geometry / 'hexagons_w_dissolved_smaller_popctrs.geojson', driver='GeoJSON')"
   ]
  },
  {
   "cell_type": "code",
   "execution_count": null,
   "metadata": {},
   "outputs": [],
   "source": [
    "o.to_file(derived_geometry / 'hexagons_w_dissolved_smaller_popctrs', driver=\"MapInfo File\")"
   ]
  }
 ],
 "metadata": {
  "kernelspec": {
   "display_name": "Python 3 (ipykernel)",
   "language": "python",
   "name": "python3"
  },
  "language_info": {
   "codemirror_mode": {
    "name": "ipython",
    "version": 3
   },
   "file_extension": ".py",
   "mimetype": "text/x-python",
   "name": "python",
   "nbconvert_exporter": "python",
   "pygments_lexer": "ipython3",
   "version": "3.10.10"
  },
  "vscode": {
   "interpreter": {
    "hash": "7baa5682b3ee41d95f3e6c53f6f101854543f295d881c00164f5d254f1692751"
   }
  }
 },
 "nbformat": 4,
 "nbformat_minor": 4
}
