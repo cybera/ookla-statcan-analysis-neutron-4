{
 "cells": [
  {
   "attachments": {},
   "cell_type": "markdown",
   "metadata": {},
   "source": [
    "# Summary\n",
    "Needs to be cleaned up!\n",
    "\n",
    "Generates a MapInfo File with hexagons and their stats.\n",
    "\n",
    "Uses the custom geometry which splits the hexagons along city borders\n",
    "and subsequently merges small and medium (PCCLASS 2,3) cities into single \n",
    "areas. (Which is a file output from elsewhere, technically could be computed\n",
    "here as well). \n",
    "\n",
    "It combines the above against tiles from the Ookla dataset. This \n",
    "is done by calculating the spatial join (GeoPandas sjoin()) on the \n",
    "default \"intersection\" predicate. This allows some tiles \n",
    "to contribute to multiple hexagons if they partially overlap more \n",
    "than one area.\n",
    "\n",
    "After computing tile/hexagon intersection, the most recent 4 quarters \n",
    "are selected for calculating speed statistics. For many (rural) areas\n",
    "there are no or few tiles from this; so an expanding \n",
    "selection is done to try and get better stats in these areas by \n",
    "verifying the sum of tests in the area are at least 10, \n",
    "adding first the remainder of the \"fixed\" data tiles for \n",
    "earlier quarter, then all tiles tiles (including mobile tiles)\n",
    "if that still does not give at least 10 tests. \n",
    "\n"
   ]
  },
  {
   "cell_type": "code",
   "execution_count": 1,
   "metadata": {},
   "outputs": [
    {
     "name": "stderr",
     "output_type": "stream",
     "text": [
      "/Users/zacharyshand/.local/lib/python3.10/site-packages/requests/__init__.py:109: RequestsDependencyWarning: urllib3 (1.26.9) or chardet (5.1.0)/charset_normalizer (2.0.12) doesn't match a supported version!\n",
      "  warnings.warn(\n"
     ]
    }
   ],
   "source": [
    "import sys\n",
    "sys.path.append(\"..\")\n",
    "\n",
    "%load_ext autoreload\n",
    "%autoreload 1\n",
    "%aimport src.datasets.joins\n",
    "%aimport src.datasets.loading.statcan\n",
    "\n",
    "import numpy as np\n",
    "import pandas as pd\n",
    "import matplotlib.pyplot as plt \n",
    "from src.datasets.loading import statcan\n",
    "from src.datasets.loading import ookla\n",
    "from src.datasets import overlays\n",
    "\n",
    "import statsmodels as sm\n",
    "# import statsmodels.stats.weightstats\n",
    "from scipy.stats import lognorm\n",
    "\n",
    "import src.config\n",
    "from pathlib import Path\n",
    "import geopandas as gp\n",
    "import src.datasets.joins as joins\n",
    "\n",
    "import re"
   ]
  },
  {
   "cell_type": "code",
   "execution_count": 2,
   "metadata": {},
   "outputs": [],
   "source": [
    "output_name = \"LastFourQuartersOrBestEstimate_On_DissolvedSmallerCitiesHexes\"\n",
    "output_dir = src.config.DATA_DIRECTORY / \"processed\" / \"statistical_geometries\"\n",
    "output_dir.mkdir(exist_ok=True)"
   ]
  },
  {
   "cell_type": "code",
   "execution_count": 3,
   "metadata": {},
   "outputs": [],
   "source": [
    "CRS = 'EPSG:4326'"
   ]
  },
  {
   "cell_type": "code",
   "execution_count": 4,
   "metadata": {},
   "outputs": [],
   "source": [
    "popctrs = statcan.boundary('population_centres')"
   ]
  },
  {
   "cell_type": "code",
   "execution_count": 5,
   "metadata": {},
   "outputs": [],
   "source": [
    "derived_geometry = (Path(src.config.DATA_DIRECTORY) / 'processed' / 'geometries').resolve()\n",
    "\n",
    "speed_data = gp.read_file(derived_geometry / 'hexagons_w_dissolved_smaller_popctrs.geojson')#, driver='GeoJSON')\n",
    "#speed_data = speed_data.to_crs(CRS)\n",
    "# speed_data.crs = popctrs.crs #assign crs b/c geojson assumes GPS/epsg:4326\n",
    "speed_data = speed_data.dropna(subset=['HEXUID_PCPUID'])"
   ]
  },
  {
   "cell_type": "code",
   "execution_count": 6,
   "metadata": {},
   "outputs": [
    {
     "data": {
      "text/html": [
       "<div>\n",
       "<style scoped>\n",
       "    .dataframe tbody tr th:only-of-type {\n",
       "        vertical-align: middle;\n",
       "    }\n",
       "\n",
       "    .dataframe tbody tr th {\n",
       "        vertical-align: top;\n",
       "    }\n",
       "\n",
       "    .dataframe thead th {\n",
       "        text-align: right;\n",
       "    }\n",
       "</style>\n",
       "<table border=\"1\" class=\"dataframe\">\n",
       "  <thead>\n",
       "    <tr style=\"text-align: right;\">\n",
       "      <th></th>\n",
       "      <th>PCPUID</th>\n",
       "      <th>pc_area</th>\n",
       "      <th>hex_area</th>\n",
       "      <th>hex_frac</th>\n",
       "      <th>pc_frac</th>\n",
       "      <th>HEXUID_PCPUID</th>\n",
       "      <th>PRCODE</th>\n",
       "      <th>PCNAME</th>\n",
       "      <th>PCCLASS</th>\n",
       "      <th>Pop2016</th>\n",
       "      <th>...</th>\n",
       "      <th>URDwell2016_RH2016</th>\n",
       "      <th>PHH_Count</th>\n",
       "      <th>Common_Type</th>\n",
       "      <th>Pop2016_at_50_10_Combined</th>\n",
       "      <th>TDwell2016_at_50_10_Combined</th>\n",
       "      <th>URDwell_at_50_10_Combined</th>\n",
       "      <th>Pop_Avail_50_10</th>\n",
       "      <th>TDwell_Avail_50_10</th>\n",
       "      <th>URDwell_Avail_50_10</th>\n",
       "      <th>geometry</th>\n",
       "    </tr>\n",
       "  </thead>\n",
       "  <tbody>\n",
       "    <tr>\n",
       "      <th>0</th>\n",
       "      <td>100792</td>\n",
       "      <td>1.719773e+08</td>\n",
       "      <td>2.539316e+07</td>\n",
       "      <td>0.440441</td>\n",
       "      <td>0.065033</td>\n",
       "      <td>NL47580528-100792</td>\n",
       "      <td>NL</td>\n",
       "      <td>St. John's</td>\n",
       "      <td>4</td>\n",
       "      <td>9896.147562</td>\n",
       "      <td>...</td>\n",
       "      <td>4318.056742</td>\n",
       "      <td>685.0</td>\n",
       "      <td>3.0</td>\n",
       "      <td>9860.925340</td>\n",
       "      <td>5043.554316</td>\n",
       "      <td>4304.723408</td>\n",
       "      <td>99.644081</td>\n",
       "      <td>99.707853</td>\n",
       "      <td>99.691219</td>\n",
       "      <td>MULTIPOLYGON (((-52.78788 47.56551, -52.78288 ...</td>\n",
       "    </tr>\n",
       "    <tr>\n",
       "      <th>1</th>\n",
       "      <td>100792</td>\n",
       "      <td>1.719773e+08</td>\n",
       "      <td>2.539316e+07</td>\n",
       "      <td>0.514429</td>\n",
       "      <td>0.075958</td>\n",
       "      <td>NL47580529-100792</td>\n",
       "      <td>NL</td>\n",
       "      <td>St. John's</td>\n",
       "      <td>4</td>\n",
       "      <td>4252.819048</td>\n",
       "      <td>...</td>\n",
       "      <td>1558.259524</td>\n",
       "      <td>437.0</td>\n",
       "      <td>4.0</td>\n",
       "      <td>4252.819048</td>\n",
       "      <td>1648.265873</td>\n",
       "      <td>1558.259524</td>\n",
       "      <td>100.000000</td>\n",
       "      <td>100.000000</td>\n",
       "      <td>100.000000</td>\n",
       "      <td>POLYGON ((-52.90996 47.56425, -52.90990 47.564...</td>\n",
       "    </tr>\n",
       "  </tbody>\n",
       "</table>\n",
       "<p>2 rows × 21 columns</p>\n",
       "</div>"
      ],
      "text/plain": [
       "   PCPUID       pc_area      hex_area  hex_frac   pc_frac      HEXUID_PCPUID  \\\n",
       "0  100792  1.719773e+08  2.539316e+07  0.440441  0.065033  NL47580528-100792   \n",
       "1  100792  1.719773e+08  2.539316e+07  0.514429  0.075958  NL47580529-100792   \n",
       "\n",
       "  PRCODE      PCNAME PCCLASS      Pop2016  ...  URDwell2016_RH2016  PHH_Count  \\\n",
       "0     NL  St. John's       4  9896.147562  ...         4318.056742      685.0   \n",
       "1     NL  St. John's       4  4252.819048  ...         1558.259524      437.0   \n",
       "\n",
       "   Common_Type  Pop2016_at_50_10_Combined  TDwell2016_at_50_10_Combined  \\\n",
       "0          3.0                9860.925340                   5043.554316   \n",
       "1          4.0                4252.819048                   1648.265873   \n",
       "\n",
       "   URDwell_at_50_10_Combined  Pop_Avail_50_10  TDwell_Avail_50_10  \\\n",
       "0                4304.723408        99.644081           99.707853   \n",
       "1                1558.259524       100.000000          100.000000   \n",
       "\n",
       "   URDwell_Avail_50_10                                           geometry  \n",
       "0            99.691219  MULTIPOLYGON (((-52.78788 47.56551, -52.78288 ...  \n",
       "1           100.000000  POLYGON ((-52.90996 47.56425, -52.90990 47.564...  \n",
       "\n",
       "[2 rows x 21 columns]"
      ]
     },
     "execution_count": 6,
     "metadata": {},
     "output_type": "execute_result"
    }
   ],
   "source": [
    "speed_data.head(2)"
   ]
  },
  {
   "cell_type": "code",
   "execution_count": 7,
   "metadata": {},
   "outputs": [],
   "source": [
    "tiles = ookla.canada_speed_tiles()#.loc[lambda s:(s.year==2022 ) & (s.conn_type=='fixed')]\n",
    "tiles = tiles.to_crs(CRS)"
   ]
  },
  {
   "cell_type": "code",
   "execution_count": 8,
   "metadata": {},
   "outputs": [],
   "source": [
    "unique_tiles = tiles[['quadkey','geometry']].drop_duplicates()\n",
    "unique_tiles = unique_tiles.sjoin(speed_data[['HEXUID_PCPUID','geometry']].to_crs(tiles.crs))\n",
    "unique_tiles = unique_tiles.drop(['index_right'],axis=1)"
   ]
  },
  {
   "cell_type": "code",
   "execution_count": 9,
   "metadata": {},
   "outputs": [],
   "source": [
    "tiles = tiles.merge(unique_tiles.drop(['geometry'],axis=1), on='quadkey')"
   ]
  },
  {
   "cell_type": "code",
   "execution_count": 10,
   "metadata": {},
   "outputs": [
    {
     "data": {
      "text/html": [
       "<div>\n",
       "<style scoped>\n",
       "    .dataframe tbody tr th:only-of-type {\n",
       "        vertical-align: middle;\n",
       "    }\n",
       "\n",
       "    .dataframe tbody tr th {\n",
       "        vertical-align: top;\n",
       "    }\n",
       "\n",
       "    .dataframe thead th {\n",
       "        text-align: right;\n",
       "    }\n",
       "</style>\n",
       "<table border=\"1\" class=\"dataframe\">\n",
       "  <thead>\n",
       "    <tr style=\"text-align: right;\">\n",
       "      <th></th>\n",
       "      <th>quadkey</th>\n",
       "      <th>geometry</th>\n",
       "      <th>avg_d_kbps</th>\n",
       "      <th>avg_u_kbps</th>\n",
       "      <th>avg_lat_ms</th>\n",
       "      <th>tests</th>\n",
       "      <th>devices</th>\n",
       "      <th>conn_type</th>\n",
       "      <th>year</th>\n",
       "      <th>quarter</th>\n",
       "      <th>HEXUID_PCPUID</th>\n",
       "    </tr>\n",
       "  </thead>\n",
       "  <tbody>\n",
       "    <tr>\n",
       "      <th>0</th>\n",
       "      <td>302312221203002</td>\n",
       "      <td>POLYGON ((-72.72949 45.42544, -72.72400 45.425...</td>\n",
       "      <td>79946</td>\n",
       "      <td>34351</td>\n",
       "      <td>14</td>\n",
       "      <td>2</td>\n",
       "      <td>1</td>\n",
       "      <td>fixed</td>\n",
       "      <td>2019</td>\n",
       "      <td>3</td>\n",
       "      <td>240328</td>\n",
       "    </tr>\n",
       "    <tr>\n",
       "      <th>1</th>\n",
       "      <td>302312221203002</td>\n",
       "      <td>POLYGON ((-72.72949 45.42544, -72.72400 45.425...</td>\n",
       "      <td>410409</td>\n",
       "      <td>440056</td>\n",
       "      <td>4</td>\n",
       "      <td>1</td>\n",
       "      <td>1</td>\n",
       "      <td>fixed</td>\n",
       "      <td>2019</td>\n",
       "      <td>4</td>\n",
       "      <td>240328</td>\n",
       "    </tr>\n",
       "  </tbody>\n",
       "</table>\n",
       "</div>"
      ],
      "text/plain": [
       "           quadkey                                           geometry  \\\n",
       "0  302312221203002  POLYGON ((-72.72949 45.42544, -72.72400 45.425...   \n",
       "1  302312221203002  POLYGON ((-72.72949 45.42544, -72.72400 45.425...   \n",
       "\n",
       "   avg_d_kbps  avg_u_kbps  avg_lat_ms  tests  devices conn_type  year  \\\n",
       "0       79946       34351          14      2        1     fixed  2019   \n",
       "1      410409      440056           4      1        1     fixed  2019   \n",
       "\n",
       "   quarter HEXUID_PCPUID  \n",
       "0        3        240328  \n",
       "1        4        240328  "
      ]
     },
     "execution_count": 10,
     "metadata": {},
     "output_type": "execute_result"
    }
   ],
   "source": [
    "tiles.head(2)"
   ]
  },
  {
   "cell_type": "markdown",
   "metadata": {},
   "source": [
    "# Questions:\n",
    "1. How many hex/areas are missing ookla tests/tiles from the last year (or X quarters)?\n",
    "2. Can we selectively go back to older tiles to fill in areas with no tests in last time period?\n",
    "3. Can we back fill older tiles/tests in areas with low test counts?"
   ]
  },
  {
   "cell_type": "code",
   "execution_count": 11,
   "metadata": {},
   "outputs": [
    {
     "data": {
      "text/plain": [
       "0         NL47580528-100792\n",
       "1         NL47580529-100792\n",
       "3         NL47430528-100792\n",
       "4         NL47510528-100792\n",
       "5         NL47510529-100792\n",
       "                ...        \n",
       "518037           BC59731291\n",
       "518077           BC55711204\n",
       "518078           BC55831204\n",
       "518079           BC56311204\n",
       "518087           BC53451204\n",
       "Name: HEXUID_PCPUID, Length: 52923, dtype: object"
      ]
     },
     "execution_count": 11,
     "metadata": {},
     "output_type": "execute_result"
    }
   ],
   "source": [
    "populated_areas = speed_data.loc[lambda s:s.Pop2016 > 0, 'HEXUID_PCPUID']\n",
    "populated_areas"
   ]
  },
  {
   "cell_type": "code",
   "execution_count": 12,
   "metadata": {},
   "outputs": [
    {
     "data": {
      "text/plain": [
       "52923"
      ]
     },
     "execution_count": 12,
     "metadata": {},
     "output_type": "execute_result"
    }
   ],
   "source": [
    "areas = len(populated_areas)\n",
    "areas"
   ]
  },
  {
   "cell_type": "code",
   "execution_count": 13,
   "metadata": {},
   "outputs": [
    {
     "data": {
      "text/plain": [
       "40809"
      ]
     },
     "execution_count": 13,
     "metadata": {},
     "output_type": "execute_result"
    }
   ],
   "source": [
    "areas_with_tiles = len(tiles.loc[lambda s:s.HEXUID_PCPUID.isin(populated_areas)].drop_duplicates(subset=['HEXUID_PCPUID']))\n",
    "areas_with_tiles "
   ]
  },
  {
   "cell_type": "code",
   "execution_count": 14,
   "metadata": {},
   "outputs": [
    {
     "data": {
      "text/plain": [
       "33179"
      ]
     },
     "execution_count": 14,
     "metadata": {},
     "output_type": "execute_result"
    }
   ],
   "source": [
    "areas_with_tiles_2022 = len(tiles.loc[lambda s:s.HEXUID_PCPUID.isin(populated_areas)].loc[lambda s:s.year == 2022].drop_duplicates(subset=['HEXUID_PCPUID']))\n",
    "areas_with_tiles_2022"
   ]
  },
  {
   "cell_type": "code",
   "execution_count": 15,
   "metadata": {},
   "outputs": [
    {
     "data": {
      "text/plain": [
       "0.7711014114846098"
      ]
     },
     "execution_count": 15,
     "metadata": {},
     "output_type": "execute_result"
    }
   ],
   "source": [
    "areas_with_tiles/len(populated_areas)"
   ]
  },
  {
   "cell_type": "code",
   "execution_count": 16,
   "metadata": {},
   "outputs": [
    {
     "data": {
      "text/plain": [
       "0.6269296903047824"
      ]
     },
     "execution_count": 16,
     "metadata": {},
     "output_type": "execute_result"
    }
   ],
   "source": [
    "areas_with_tiles_2022/len(populated_areas)"
   ]
  },
  {
   "cell_type": "code",
   "execution_count": 17,
   "metadata": {},
   "outputs": [
    {
     "data": {
      "text/plain": [
       "year  quarter  conn_type\n",
       "2022  3        fixed        0.652699\n",
       "      2        fixed        0.081894\n",
       "      1        fixed        0.038398\n",
       "2021  4        fixed        0.029601\n",
       "      3        fixed        0.025313\n",
       "2022  3        mobile       0.024039\n",
       "2021  2        fixed        0.015634\n",
       "      1        fixed        0.013012\n",
       "2020  3        fixed        0.010684\n",
       "      2        fixed        0.010414\n",
       "2022  2        mobile       0.010120\n",
       "2021  3        mobile       0.008920\n",
       "2020  4        fixed        0.008895\n",
       "      1        fixed        0.007645\n",
       "2019  4        fixed        0.007033\n",
       "2021  4        mobile       0.006812\n",
       "2022  1        mobile       0.005881\n",
       "2019  3        fixed        0.005513\n",
       "      2        fixed        0.005415\n",
       "2021  2        mobile       0.004852\n",
       "2019  1        fixed        0.004631\n",
       "2020  3        mobile       0.003945\n",
       "2021  1        mobile       0.003700\n",
       "2020  4        mobile       0.003259\n",
       "2019  3        mobile       0.002744\n",
       "2020  2        mobile       0.002573\n",
       "      1        mobile       0.002279\n",
       "2019  4        mobile       0.002009\n",
       "      2        mobile       0.001078\n",
       "      1        mobile       0.001005\n",
       "dtype: float64"
      ]
     },
     "execution_count": 17,
     "metadata": {},
     "output_type": "execute_result"
    }
   ],
   "source": [
    "tiles.loc[lambda s:s.HEXUID_PCPUID.isin(populated_areas)].sort_values(by=['conn_type']).sort_values(by=['year','quarter'], ascending=False).drop_duplicates(subset='HEXUID_PCPUID')[['year','quarter','conn_type']].value_counts(normalize=True)"
   ]
  },
  {
   "cell_type": "code",
   "execution_count": 18,
   "metadata": {},
   "outputs": [],
   "source": [
    "# areas where last 4 quarters have at least 10 tests on fixed connections\n",
    "# take all quarters on fixed tiles with at least 10 tests on fixed connections\n",
    "# use all tiles"
   ]
  },
  {
   "cell_type": "code",
   "execution_count": 19,
   "metadata": {},
   "outputs": [
    {
     "data": {
      "text/plain": [
       "HEXUID_PCPUID\n",
       "100046        761\n",
       "100072        209\n",
       "100082        870\n",
       "100084        536\n",
       "100107        368\n",
       "             ... \n",
       "YT64431406     21\n",
       "YT66121372      7\n",
       "YT66371367      1\n",
       "YT67531398      2\n",
       "YT67571399      3\n",
       "Name: tests, Length: 37989, dtype: int64"
      ]
     },
     "execution_count": 19,
     "metadata": {},
     "output_type": "execute_result"
    }
   ],
   "source": [
    "tests_in_last_4quarters = tiles.loc[lambda s:(s.year==2022) | ( (s.year==2021) & (s.quarter==4) )].loc[lambda s:s.conn_type=='fixed'].groupby('HEXUID_PCPUID')['tests'].sum()\n",
    "tests_in_last_4quarters"
   ]
  },
  {
   "cell_type": "code",
   "execution_count": 20,
   "metadata": {},
   "outputs": [
    {
     "data": {
      "text/plain": [
       "Index(['100046', '100072', '100082', '100084', '100107', '100136', '100155',\n",
       "       '100182', '100204', '100219',\n",
       "       ...\n",
       "       'YT62631372', 'YT63591359', 'YT64011392', 'YT64011393', 'YT64051390',\n",
       "       'YT64051393', 'YT64051394', 'YT64091391', 'YT64091394', 'YT64431406'],\n",
       "      dtype='object', name='HEXUID_PCPUID', length=23612)"
      ]
     },
     "execution_count": 20,
     "metadata": {},
     "output_type": "execute_result"
    }
   ],
   "source": [
    "level_1_areas = tests_in_last_4quarters.index[tests_in_last_4quarters > 10].dropna()\n",
    "level_1_areas"
   ]
  },
  {
   "cell_type": "code",
   "execution_count": 21,
   "metadata": {},
   "outputs": [
    {
     "data": {
      "text/plain": [
       "HEXUID_PCPUID\n",
       "241472        1711\n",
       "241491           4\n",
       "471420          47\n",
       "621392           9\n",
       "621393           2\n",
       "              ... \n",
       "YT64161405       2\n",
       "YT66121372       7\n",
       "YT66371367       1\n",
       "YT67531398       2\n",
       "YT67571399       3\n",
       "Name: tests, Length: 22336, dtype: int64"
      ]
     },
     "execution_count": 21,
     "metadata": {},
     "output_type": "execute_result"
    }
   ],
   "source": [
    "fixed_tests_counts_nolevel1 = tiles.loc[lambda s:~s.HEXUID_PCPUID.isin(level_1_areas)].loc[lambda s:s.conn_type == 'fixed'].groupby('HEXUID_PCPUID')['tests'].sum()\n",
    "fixed_tests_counts_nolevel1"
   ]
  },
  {
   "cell_type": "code",
   "execution_count": 22,
   "metadata": {},
   "outputs": [
    {
     "data": {
      "text/plain": [
       "Index(['241472', '471420', 'AB49051117', 'AB49051128', 'AB49051132',\n",
       "       'AB49051133', 'AB49051135', 'AB49071118', 'AB49071119', 'AB49071136',\n",
       "       ...\n",
       "       'YT60891355', 'YT61021352', 'YT61551323', 'YT62011325', 'YT62231333',\n",
       "       'YT62371334', 'YT62371409', 'YT63631387', 'YT63891353', 'YT64011358'],\n",
       "      dtype='object', name='HEXUID_PCPUID', length=6594)"
      ]
     },
     "execution_count": 22,
     "metadata": {},
     "output_type": "execute_result"
    }
   ],
   "source": [
    "level_2_areas = fixed_tests_counts_nolevel1.index[fixed_tests_counts_nolevel1 > 10].dropna()\n",
    "level_2_areas"
   ]
  },
  {
   "cell_type": "code",
   "execution_count": 23,
   "metadata": {},
   "outputs": [
    {
     "data": {
      "text/plain": [
       "array(['NL49510553', 'SK51061059', 'SK53701091', ..., 'NS44820630',\n",
       "       'NL47090559', 'NL47280528'], dtype=object)"
      ]
     },
     "execution_count": 23,
     "metadata": {},
     "output_type": "execute_result"
    }
   ],
   "source": [
    "level_3_areas = tiles.drop_duplicates(subset='HEXUID_PCPUID').loc[lambda s:~s.HEXUID_PCPUID.isin(level_1_areas) & ~s.HEXUID_PCPUID.isin(level_2_areas)].HEXUID_PCPUID.dropna().values\n",
    "level_3_areas"
   ]
  },
  {
   "cell_type": "code",
   "execution_count": 25,
   "metadata": {},
   "outputs": [
    {
     "data": {
      "text/html": [
       "<div>\n",
       "<style scoped>\n",
       "    .dataframe tbody tr th:only-of-type {\n",
       "        vertical-align: middle;\n",
       "    }\n",
       "\n",
       "    .dataframe tbody tr th {\n",
       "        vertical-align: top;\n",
       "    }\n",
       "\n",
       "    .dataframe thead th {\n",
       "        text-align: right;\n",
       "    }\n",
       "</style>\n",
       "<table border=\"1\" class=\"dataframe\">\n",
       "  <thead>\n",
       "    <tr style=\"text-align: right;\">\n",
       "      <th></th>\n",
       "      <th>quadkey</th>\n",
       "      <th>geometry</th>\n",
       "      <th>avg_d_kbps</th>\n",
       "      <th>avg_u_kbps</th>\n",
       "      <th>avg_lat_ms</th>\n",
       "      <th>tests</th>\n",
       "      <th>devices</th>\n",
       "      <th>conn_type</th>\n",
       "      <th>year</th>\n",
       "      <th>quarter</th>\n",
       "      <th>HEXUID_PCPUID</th>\n",
       "    </tr>\n",
       "  </thead>\n",
       "  <tbody>\n",
       "    <tr>\n",
       "      <th>6</th>\n",
       "      <td>302312221203002</td>\n",
       "      <td>POLYGON ((-72.72949 45.42544, -72.72400 45.425...</td>\n",
       "      <td>35992</td>\n",
       "      <td>10780</td>\n",
       "      <td>12</td>\n",
       "      <td>5</td>\n",
       "      <td>4</td>\n",
       "      <td>fixed</td>\n",
       "      <td>2021</td>\n",
       "      <td>4</td>\n",
       "      <td>240328</td>\n",
       "    </tr>\n",
       "    <tr>\n",
       "      <th>7</th>\n",
       "      <td>302312221203002</td>\n",
       "      <td>POLYGON ((-72.72949 45.42544, -72.72400 45.425...</td>\n",
       "      <td>67907</td>\n",
       "      <td>8983</td>\n",
       "      <td>12</td>\n",
       "      <td>6</td>\n",
       "      <td>3</td>\n",
       "      <td>fixed</td>\n",
       "      <td>2022</td>\n",
       "      <td>2</td>\n",
       "      <td>240328</td>\n",
       "    </tr>\n",
       "    <tr>\n",
       "      <th>26</th>\n",
       "      <td>302230331100310</td>\n",
       "      <td>POLYGON ((-81.70532 43.56447, -81.69983 43.564...</td>\n",
       "      <td>56176</td>\n",
       "      <td>60976</td>\n",
       "      <td>2</td>\n",
       "      <td>7</td>\n",
       "      <td>7</td>\n",
       "      <td>fixed</td>\n",
       "      <td>2021</td>\n",
       "      <td>4</td>\n",
       "      <td>351499</td>\n",
       "    </tr>\n",
       "    <tr>\n",
       "      <th>27</th>\n",
       "      <td>302230331100310</td>\n",
       "      <td>POLYGON ((-81.70532 43.56447, -81.69983 43.564...</td>\n",
       "      <td>9972</td>\n",
       "      <td>3613</td>\n",
       "      <td>3</td>\n",
       "      <td>1</td>\n",
       "      <td>1</td>\n",
       "      <td>fixed</td>\n",
       "      <td>2022</td>\n",
       "      <td>1</td>\n",
       "      <td>351499</td>\n",
       "    </tr>\n",
       "    <tr>\n",
       "      <th>28</th>\n",
       "      <td>302230331100310</td>\n",
       "      <td>POLYGON ((-81.70532 43.56447, -81.69983 43.564...</td>\n",
       "      <td>75419</td>\n",
       "      <td>69597</td>\n",
       "      <td>3</td>\n",
       "      <td>15</td>\n",
       "      <td>5</td>\n",
       "      <td>fixed</td>\n",
       "      <td>2022</td>\n",
       "      <td>2</td>\n",
       "      <td>351499</td>\n",
       "    </tr>\n",
       "    <tr>\n",
       "      <th>...</th>\n",
       "      <td>...</td>\n",
       "      <td>...</td>\n",
       "      <td>...</td>\n",
       "      <td>...</td>\n",
       "      <td>...</td>\n",
       "      <td>...</td>\n",
       "      <td>...</td>\n",
       "      <td>...</td>\n",
       "      <td>...</td>\n",
       "      <td>...</td>\n",
       "      <td>...</td>\n",
       "    </tr>\n",
       "    <tr>\n",
       "      <th>4592589</th>\n",
       "      <td>303300132012310</td>\n",
       "      <td>POLYGON ((-54.01978 48.18074, -54.01428 48.180...</td>\n",
       "      <td>697</td>\n",
       "      <td>143</td>\n",
       "      <td>73</td>\n",
       "      <td>1</td>\n",
       "      <td>1</td>\n",
       "      <td>mobile</td>\n",
       "      <td>2022</td>\n",
       "      <td>3</td>\n",
       "      <td>NL48160540</td>\n",
       "    </tr>\n",
       "    <tr>\n",
       "      <th>4592591</th>\n",
       "      <td>303300223220320</td>\n",
       "      <td>POLYGON ((-55.87646 47.07760, -55.87097 47.077...</td>\n",
       "      <td>68379</td>\n",
       "      <td>2644</td>\n",
       "      <td>56</td>\n",
       "      <td>1</td>\n",
       "      <td>1</td>\n",
       "      <td>mobile</td>\n",
       "      <td>2022</td>\n",
       "      <td>3</td>\n",
       "      <td>NL47090559</td>\n",
       "    </tr>\n",
       "    <tr>\n",
       "      <th>4592595</th>\n",
       "      <td>303301000333313</td>\n",
       "      <td>POLYGON ((-53.09143 48.70184, -53.08594 48.701...</td>\n",
       "      <td>3561</td>\n",
       "      <td>1269</td>\n",
       "      <td>406</td>\n",
       "      <td>1</td>\n",
       "      <td>1</td>\n",
       "      <td>mobile</td>\n",
       "      <td>2022</td>\n",
       "      <td>3</td>\n",
       "      <td>NL48710531</td>\n",
       "    </tr>\n",
       "    <tr>\n",
       "      <th>4592596</th>\n",
       "      <td>303301002212003</td>\n",
       "      <td>POLYGON ((-53.34412 48.54207, -53.33862 48.542...</td>\n",
       "      <td>3659</td>\n",
       "      <td>215</td>\n",
       "      <td>82</td>\n",
       "      <td>1</td>\n",
       "      <td>1</td>\n",
       "      <td>mobile</td>\n",
       "      <td>2022</td>\n",
       "      <td>3</td>\n",
       "      <td>NL48540534</td>\n",
       "    </tr>\n",
       "    <tr>\n",
       "      <th>4592604</th>\n",
       "      <td>303301223111010</td>\n",
       "      <td>POLYGON ((-52.76733 47.27923, -52.76184 47.279...</td>\n",
       "      <td>4278</td>\n",
       "      <td>4315</td>\n",
       "      <td>95</td>\n",
       "      <td>1</td>\n",
       "      <td>1</td>\n",
       "      <td>mobile</td>\n",
       "      <td>2022</td>\n",
       "      <td>3</td>\n",
       "      <td>NL47280528</td>\n",
       "    </tr>\n",
       "  </tbody>\n",
       "</table>\n",
       "<p>848805 rows × 11 columns</p>\n",
       "</div>"
      ],
      "text/plain": [
       "                 quadkey                                           geometry  \\\n",
       "6        302312221203002  POLYGON ((-72.72949 45.42544, -72.72400 45.425...   \n",
       "7        302312221203002  POLYGON ((-72.72949 45.42544, -72.72400 45.425...   \n",
       "26       302230331100310  POLYGON ((-81.70532 43.56447, -81.69983 43.564...   \n",
       "27       302230331100310  POLYGON ((-81.70532 43.56447, -81.69983 43.564...   \n",
       "28       302230331100310  POLYGON ((-81.70532 43.56447, -81.69983 43.564...   \n",
       "...                  ...                                                ...   \n",
       "4592589  303300132012310  POLYGON ((-54.01978 48.18074, -54.01428 48.180...   \n",
       "4592591  303300223220320  POLYGON ((-55.87646 47.07760, -55.87097 47.077...   \n",
       "4592595  303301000333313  POLYGON ((-53.09143 48.70184, -53.08594 48.701...   \n",
       "4592596  303301002212003  POLYGON ((-53.34412 48.54207, -53.33862 48.542...   \n",
       "4592604  303301223111010  POLYGON ((-52.76733 47.27923, -52.76184 47.279...   \n",
       "\n",
       "         avg_d_kbps  avg_u_kbps  avg_lat_ms  tests  devices conn_type  year  \\\n",
       "6             35992       10780          12      5        4     fixed  2021   \n",
       "7             67907        8983          12      6        3     fixed  2022   \n",
       "26            56176       60976           2      7        7     fixed  2021   \n",
       "27             9972        3613           3      1        1     fixed  2022   \n",
       "28            75419       69597           3     15        5     fixed  2022   \n",
       "...             ...         ...         ...    ...      ...       ...   ...   \n",
       "4592589         697         143          73      1        1    mobile  2022   \n",
       "4592591       68379        2644          56      1        1    mobile  2022   \n",
       "4592595        3561        1269         406      1        1    mobile  2022   \n",
       "4592596        3659         215          82      1        1    mobile  2022   \n",
       "4592604        4278        4315          95      1        1    mobile  2022   \n",
       "\n",
       "         quarter HEXUID_PCPUID  \n",
       "6              4        240328  \n",
       "7              2        240328  \n",
       "26             4        351499  \n",
       "27             1        351499  \n",
       "28             2        351499  \n",
       "...          ...           ...  \n",
       "4592589        3    NL48160540  \n",
       "4592591        3    NL47090559  \n",
       "4592595        3    NL48710531  \n",
       "4592596        3    NL48540534  \n",
       "4592604        3    NL47280528  \n",
       "\n",
       "[848805 rows x 11 columns]"
      ]
     },
     "execution_count": 25,
     "metadata": {},
     "output_type": "execute_result"
    }
   ],
   "source": [
    "l1_tiles = tiles.loc[lambda s:s.HEXUID_PCPUID.isin(level_1_areas)].loc[lambda s:(s.year==2022) | ( (s.year==2021) & (s.quarter==4) )].loc[lambda s:s.conn_type=='fixed']\n",
    "l2_tiles = tiles.loc[lambda s:s.HEXUID_PCPUID.isin(level_2_areas)].loc[lambda s:s.conn_type=='fixed']\n",
    "l3_tiles = tiles.loc[lambda s:s.HEXUID_PCPUID.isin(level_3_areas)]\n",
    "\n",
    "selected_tiles = pd.concat([l1_tiles, l2_tiles, l3_tiles]).drop_duplicates(subset=['quadkey','conn_type','year','quarter'])\n",
    "selected_tiles"
   ]
  },
  {
   "cell_type": "code",
   "execution_count": 27,
   "metadata": {},
   "outputs": [
    {
     "name": "stderr",
     "output_type": "stream",
     "text": [
      "/Users/zacharyshand/ookla-statcan-analysis/notebooks/../src/datasets/joins.py:95: UserWarning: Tiles already have labels matching HEXUID_PCPUID, skipping labelling.\n",
      "  warnings.warn(f\"Tiles already have labels matching {geom_index}, skipping labelling.\")\n"
     ]
    }
   ],
   "source": [
    "speed_data = joins.add_simple_stats(speed_data, selected_tiles, 'HEXUID_PCPUID')"
   ]
  },
  {
   "cell_type": "code",
   "execution_count": 28,
   "metadata": {},
   "outputs": [
    {
     "data": {
      "text/html": [
       "<div>\n",
       "<style scoped>\n",
       "    .dataframe tbody tr th:only-of-type {\n",
       "        vertical-align: middle;\n",
       "    }\n",
       "\n",
       "    .dataframe tbody tr th {\n",
       "        vertical-align: top;\n",
       "    }\n",
       "\n",
       "    .dataframe thead th {\n",
       "        text-align: right;\n",
       "    }\n",
       "</style>\n",
       "<table border=\"1\" class=\"dataframe\">\n",
       "  <thead>\n",
       "    <tr style=\"text-align: right;\">\n",
       "      <th></th>\n",
       "      <th>PCPUID</th>\n",
       "      <th>pc_area</th>\n",
       "      <th>hex_area</th>\n",
       "      <th>hex_frac</th>\n",
       "      <th>pc_frac</th>\n",
       "      <th>HEXUID_PCPUID</th>\n",
       "      <th>PRCODE</th>\n",
       "      <th>PCNAME</th>\n",
       "      <th>PCCLASS</th>\n",
       "      <th>Pop2016</th>\n",
       "      <th>...</th>\n",
       "      <th>25p_u_kbps</th>\n",
       "      <th>50p_u_kbps</th>\n",
       "      <th>75p_u_kbps</th>\n",
       "      <th>max_u_kbps</th>\n",
       "      <th>avg_lat_ms</th>\n",
       "      <th>tests</th>\n",
       "      <th>ave_tests_per_tile</th>\n",
       "      <th>unique_devices</th>\n",
       "      <th>ave_devices_per_tile</th>\n",
       "      <th>num_tiles</th>\n",
       "    </tr>\n",
       "  </thead>\n",
       "  <tbody>\n",
       "    <tr>\n",
       "      <th>2</th>\n",
       "      <td>100792</td>\n",
       "      <td>1.719773e+08</td>\n",
       "      <td>2.536795e+07</td>\n",
       "      <td>0.000288</td>\n",
       "      <td>0.000043</td>\n",
       "      <td>NL47710527-100792</td>\n",
       "      <td>NL</td>\n",
       "      <td>St. John's</td>\n",
       "      <td>4</td>\n",
       "      <td>0.000000</td>\n",
       "      <td>...</td>\n",
       "      <td>NaN</td>\n",
       "      <td>NaN</td>\n",
       "      <td>NaN</td>\n",
       "      <td>NaN</td>\n",
       "      <td>NaN</td>\n",
       "      <td>NaN</td>\n",
       "      <td>NaN</td>\n",
       "      <td>NaN</td>\n",
       "      <td>NaN</td>\n",
       "      <td>NaN</td>\n",
       "    </tr>\n",
       "    <tr>\n",
       "      <th>8</th>\n",
       "      <td>100792</td>\n",
       "      <td>1.719773e+08</td>\n",
       "      <td>2.538862e+07</td>\n",
       "      <td>0.000412</td>\n",
       "      <td>0.000061</td>\n",
       "      <td>NL47610528-100792</td>\n",
       "      <td>NL</td>\n",
       "      <td>St. John's</td>\n",
       "      <td>4</td>\n",
       "      <td>12.200000</td>\n",
       "      <td>...</td>\n",
       "      <td>NaN</td>\n",
       "      <td>NaN</td>\n",
       "      <td>NaN</td>\n",
       "      <td>NaN</td>\n",
       "      <td>NaN</td>\n",
       "      <td>NaN</td>\n",
       "      <td>NaN</td>\n",
       "      <td>NaN</td>\n",
       "      <td>NaN</td>\n",
       "      <td>NaN</td>\n",
       "    </tr>\n",
       "    <tr>\n",
       "      <th>10</th>\n",
       "      <td>100792</td>\n",
       "      <td>1.719773e+08</td>\n",
       "      <td>2.541990e+07</td>\n",
       "      <td>0.002747</td>\n",
       "      <td>0.000406</td>\n",
       "      <td>NL47460528-100792</td>\n",
       "      <td>NL</td>\n",
       "      <td>St. John's</td>\n",
       "      <td>4</td>\n",
       "      <td>12.818182</td>\n",
       "      <td>...</td>\n",
       "      <td>NaN</td>\n",
       "      <td>NaN</td>\n",
       "      <td>NaN</td>\n",
       "      <td>NaN</td>\n",
       "      <td>NaN</td>\n",
       "      <td>NaN</td>\n",
       "      <td>NaN</td>\n",
       "      <td>NaN</td>\n",
       "      <td>NaN</td>\n",
       "      <td>NaN</td>\n",
       "    </tr>\n",
       "    <tr>\n",
       "      <th>24</th>\n",
       "      <td>120348</td>\n",
       "      <td>2.605981e+08</td>\n",
       "      <td>2.606873e+07</td>\n",
       "      <td>0.109995</td>\n",
       "      <td>0.011003</td>\n",
       "      <td>NS44600636-120348</td>\n",
       "      <td>NS</td>\n",
       "      <td>Halifax</td>\n",
       "      <td>4</td>\n",
       "      <td>532.000000</td>\n",
       "      <td>...</td>\n",
       "      <td>NaN</td>\n",
       "      <td>NaN</td>\n",
       "      <td>NaN</td>\n",
       "      <td>NaN</td>\n",
       "      <td>NaN</td>\n",
       "      <td>NaN</td>\n",
       "      <td>NaN</td>\n",
       "      <td>NaN</td>\n",
       "      <td>NaN</td>\n",
       "      <td>NaN</td>\n",
       "    </tr>\n",
       "    <tr>\n",
       "      <th>29</th>\n",
       "      <td>120348</td>\n",
       "      <td>2.605981e+08</td>\n",
       "      <td>2.601126e+07</td>\n",
       "      <td>0.025895</td>\n",
       "      <td>0.002585</td>\n",
       "      <td>NS44840637-120348</td>\n",
       "      <td>NS</td>\n",
       "      <td>Halifax</td>\n",
       "      <td>4</td>\n",
       "      <td>46.444444</td>\n",
       "      <td>...</td>\n",
       "      <td>NaN</td>\n",
       "      <td>NaN</td>\n",
       "      <td>NaN</td>\n",
       "      <td>NaN</td>\n",
       "      <td>NaN</td>\n",
       "      <td>NaN</td>\n",
       "      <td>NaN</td>\n",
       "      <td>NaN</td>\n",
       "      <td>NaN</td>\n",
       "      <td>NaN</td>\n",
       "    </tr>\n",
       "    <tr>\n",
       "      <th>...</th>\n",
       "      <td>...</td>\n",
       "      <td>...</td>\n",
       "      <td>...</td>\n",
       "      <td>...</td>\n",
       "      <td>...</td>\n",
       "      <td>...</td>\n",
       "      <td>...</td>\n",
       "      <td>...</td>\n",
       "      <td>...</td>\n",
       "      <td>...</td>\n",
       "      <td>...</td>\n",
       "      <td>...</td>\n",
       "      <td>...</td>\n",
       "      <td>...</td>\n",
       "      <td>...</td>\n",
       "      <td>...</td>\n",
       "      <td>...</td>\n",
       "      <td>...</td>\n",
       "      <td>...</td>\n",
       "      <td>...</td>\n",
       "      <td>...</td>\n",
       "    </tr>\n",
       "    <tr>\n",
       "      <th>518090</th>\n",
       "      <td>None</td>\n",
       "      <td>NaN</td>\n",
       "      <td>2.441105e+07</td>\n",
       "      <td>1.000000</td>\n",
       "      <td>NaN</td>\n",
       "      <td>BC53331204</td>\n",
       "      <td>BC</td>\n",
       "      <td>None</td>\n",
       "      <td>None</td>\n",
       "      <td>0.000000</td>\n",
       "      <td>...</td>\n",
       "      <td>NaN</td>\n",
       "      <td>NaN</td>\n",
       "      <td>NaN</td>\n",
       "      <td>NaN</td>\n",
       "      <td>NaN</td>\n",
       "      <td>NaN</td>\n",
       "      <td>NaN</td>\n",
       "      <td>NaN</td>\n",
       "      <td>NaN</td>\n",
       "      <td>NaN</td>\n",
       "    </tr>\n",
       "    <tr>\n",
       "      <th>518091</th>\n",
       "      <td>None</td>\n",
       "      <td>NaN</td>\n",
       "      <td>2.447289e+07</td>\n",
       "      <td>1.000000</td>\n",
       "      <td>NaN</td>\n",
       "      <td>BC52891204</td>\n",
       "      <td>BC</td>\n",
       "      <td>None</td>\n",
       "      <td>None</td>\n",
       "      <td>0.000000</td>\n",
       "      <td>...</td>\n",
       "      <td>NaN</td>\n",
       "      <td>NaN</td>\n",
       "      <td>NaN</td>\n",
       "      <td>NaN</td>\n",
       "      <td>NaN</td>\n",
       "      <td>NaN</td>\n",
       "      <td>NaN</td>\n",
       "      <td>NaN</td>\n",
       "      <td>NaN</td>\n",
       "      <td>NaN</td>\n",
       "    </tr>\n",
       "    <tr>\n",
       "      <th>518092</th>\n",
       "      <td>None</td>\n",
       "      <td>NaN</td>\n",
       "      <td>2.450451e+07</td>\n",
       "      <td>1.000000</td>\n",
       "      <td>NaN</td>\n",
       "      <td>BC52661204</td>\n",
       "      <td>BC</td>\n",
       "      <td>None</td>\n",
       "      <td>None</td>\n",
       "      <td>0.000000</td>\n",
       "      <td>...</td>\n",
       "      <td>NaN</td>\n",
       "      <td>NaN</td>\n",
       "      <td>NaN</td>\n",
       "      <td>NaN</td>\n",
       "      <td>NaN</td>\n",
       "      <td>NaN</td>\n",
       "      <td>NaN</td>\n",
       "      <td>NaN</td>\n",
       "      <td>NaN</td>\n",
       "      <td>NaN</td>\n",
       "    </tr>\n",
       "    <tr>\n",
       "      <th>518093</th>\n",
       "      <td>None</td>\n",
       "      <td>NaN</td>\n",
       "      <td>2.444205e+07</td>\n",
       "      <td>1.000000</td>\n",
       "      <td>NaN</td>\n",
       "      <td>BC53111204</td>\n",
       "      <td>BC</td>\n",
       "      <td>None</td>\n",
       "      <td>None</td>\n",
       "      <td>0.000000</td>\n",
       "      <td>...</td>\n",
       "      <td>NaN</td>\n",
       "      <td>NaN</td>\n",
       "      <td>NaN</td>\n",
       "      <td>NaN</td>\n",
       "      <td>NaN</td>\n",
       "      <td>NaN</td>\n",
       "      <td>NaN</td>\n",
       "      <td>NaN</td>\n",
       "      <td>NaN</td>\n",
       "      <td>NaN</td>\n",
       "    </tr>\n",
       "    <tr>\n",
       "      <th>518094</th>\n",
       "      <td>None</td>\n",
       "      <td>NaN</td>\n",
       "      <td>2.438113e+07</td>\n",
       "      <td>1.000000</td>\n",
       "      <td>NaN</td>\n",
       "      <td>BC53561204</td>\n",
       "      <td>BC</td>\n",
       "      <td>None</td>\n",
       "      <td>None</td>\n",
       "      <td>0.000000</td>\n",
       "      <td>...</td>\n",
       "      <td>NaN</td>\n",
       "      <td>NaN</td>\n",
       "      <td>NaN</td>\n",
       "      <td>NaN</td>\n",
       "      <td>NaN</td>\n",
       "      <td>NaN</td>\n",
       "      <td>NaN</td>\n",
       "      <td>NaN</td>\n",
       "      <td>NaN</td>\n",
       "      <td>NaN</td>\n",
       "    </tr>\n",
       "  </tbody>\n",
       "</table>\n",
       "<p>472206 rows × 41 columns</p>\n",
       "</div>"
      ],
      "text/plain": [
       "        PCPUID       pc_area      hex_area  hex_frac   pc_frac  \\\n",
       "2       100792  1.719773e+08  2.536795e+07  0.000288  0.000043   \n",
       "8       100792  1.719773e+08  2.538862e+07  0.000412  0.000061   \n",
       "10      100792  1.719773e+08  2.541990e+07  0.002747  0.000406   \n",
       "24      120348  2.605981e+08  2.606873e+07  0.109995  0.011003   \n",
       "29      120348  2.605981e+08  2.601126e+07  0.025895  0.002585   \n",
       "...        ...           ...           ...       ...       ...   \n",
       "518090    None           NaN  2.441105e+07  1.000000       NaN   \n",
       "518091    None           NaN  2.447289e+07  1.000000       NaN   \n",
       "518092    None           NaN  2.450451e+07  1.000000       NaN   \n",
       "518093    None           NaN  2.444205e+07  1.000000       NaN   \n",
       "518094    None           NaN  2.438113e+07  1.000000       NaN   \n",
       "\n",
       "            HEXUID_PCPUID PRCODE      PCNAME PCCLASS     Pop2016  ...  \\\n",
       "2       NL47710527-100792     NL  St. John's       4    0.000000  ...   \n",
       "8       NL47610528-100792     NL  St. John's       4   12.200000  ...   \n",
       "10      NL47460528-100792     NL  St. John's       4   12.818182  ...   \n",
       "24      NS44600636-120348     NS     Halifax       4  532.000000  ...   \n",
       "29      NS44840637-120348     NS     Halifax       4   46.444444  ...   \n",
       "...                   ...    ...         ...     ...         ...  ...   \n",
       "518090         BC53331204     BC        None    None    0.000000  ...   \n",
       "518091         BC52891204     BC        None    None    0.000000  ...   \n",
       "518092         BC52661204     BC        None    None    0.000000  ...   \n",
       "518093         BC53111204     BC        None    None    0.000000  ...   \n",
       "518094         BC53561204     BC        None    None    0.000000  ...   \n",
       "\n",
       "        25p_u_kbps  50p_u_kbps  75p_u_kbps  max_u_kbps  avg_lat_ms  tests  \\\n",
       "2              NaN         NaN         NaN         NaN         NaN    NaN   \n",
       "8              NaN         NaN         NaN         NaN         NaN    NaN   \n",
       "10             NaN         NaN         NaN         NaN         NaN    NaN   \n",
       "24             NaN         NaN         NaN         NaN         NaN    NaN   \n",
       "29             NaN         NaN         NaN         NaN         NaN    NaN   \n",
       "...            ...         ...         ...         ...         ...    ...   \n",
       "518090         NaN         NaN         NaN         NaN         NaN    NaN   \n",
       "518091         NaN         NaN         NaN         NaN         NaN    NaN   \n",
       "518092         NaN         NaN         NaN         NaN         NaN    NaN   \n",
       "518093         NaN         NaN         NaN         NaN         NaN    NaN   \n",
       "518094         NaN         NaN         NaN         NaN         NaN    NaN   \n",
       "\n",
       "        ave_tests_per_tile  unique_devices  ave_devices_per_tile  num_tiles  \n",
       "2                      NaN             NaN                   NaN        NaN  \n",
       "8                      NaN             NaN                   NaN        NaN  \n",
       "10                     NaN             NaN                   NaN        NaN  \n",
       "24                     NaN             NaN                   NaN        NaN  \n",
       "29                     NaN             NaN                   NaN        NaN  \n",
       "...                    ...             ...                   ...        ...  \n",
       "518090                 NaN             NaN                   NaN        NaN  \n",
       "518091                 NaN             NaN                   NaN        NaN  \n",
       "518092                 NaN             NaN                   NaN        NaN  \n",
       "518093                 NaN             NaN                   NaN        NaN  \n",
       "518094                 NaN             NaN                   NaN        NaN  \n",
       "\n",
       "[472206 rows x 41 columns]"
      ]
     },
     "execution_count": 28,
     "metadata": {},
     "output_type": "execute_result"
    }
   ],
   "source": [
    "speed_data[pd.isna(speed_data.num_tiles)]"
   ]
  },
  {
   "cell_type": "code",
   "execution_count": 29,
   "metadata": {},
   "outputs": [
    {
     "name": "stderr",
     "output_type": "stream",
     "text": [
      "/Users/zacharyshand/ookla-statcan-analysis/notebooks/../src/datasets/joins.py:95: UserWarning: Tiles already have labels matching HEXUID_PCPUID, skipping labelling.\n",
      "  warnings.warn(f\"Tiles already have labels matching {geom_index}, skipping labelling.\")\n"
     ]
    }
   ],
   "source": [
    "speed_data = joins.add_50_10_stats(speed_data, selected_tiles, 'HEXUID_PCPUID')"
   ]
  },
  {
   "cell_type": "code",
   "execution_count": 30,
   "metadata": {},
   "outputs": [],
   "source": [
    "unused_columns = ['pc_area','hex_area','pc_frac', 'hex_frac']\n",
    "for col in unused_columns:\n",
    "    del speed_data[col]\n",
    "\n",
    "speed_data['ookla_50_10_percentile'] = speed_data.apply(lambda s:min(s['50_down_percentile'], s['10_up_percentile']), axis=1)"
   ]
  },
  {
   "cell_type": "code",
   "execution_count": 31,
   "metadata": {},
   "outputs": [
    {
     "data": {
      "text/plain": [
       "Index(['PCPUID', 'HEXUID_PCPUID', 'PRCODE', 'PCNAME', 'PCCLASS', 'Pop2016',\n",
       "       'TDwell2016_TLog2016', 'URDwell2016_RH2016', 'PHH_Count', 'Common_Type',\n",
       "       'Pop2016_at_50_10_Combined', 'TDwell2016_at_50_10_Combined',\n",
       "       'URDwell_at_50_10_Combined', 'Pop_Avail_50_10', 'TDwell_Avail_50_10',\n",
       "       'URDwell_Avail_50_10', 'geometry', 'avg_d_kbps', 'std_d_kbps',\n",
       "       'min_d_kbps', '25p_d_kbps', '50p_d_kbps', '75p_d_kbps', 'max_d_kbps',\n",
       "       'avg_u_kbps', 'std_u_kbps', 'min_u_kbps', '25p_u_kbps', '50p_u_kbps',\n",
       "       '75p_u_kbps', 'max_u_kbps', 'avg_lat_ms', 'tests', 'ave_tests_per_tile',\n",
       "       'unique_devices', 'ave_devices_per_tile', 'num_tiles',\n",
       "       '50_down_percentile', '10_up_percentile', 'ookla_50_10_percentile'],\n",
       "      dtype='object')"
      ]
     },
     "execution_count": 31,
     "metadata": {},
     "output_type": "execute_result"
    }
   ],
   "source": [
    "speed_data.columns"
   ]
  },
  {
   "cell_type": "code",
   "execution_count": 32,
   "metadata": {},
   "outputs": [
    {
     "name": "stderr",
     "output_type": "stream",
     "text": [
      "/Users/zacharyshand/ookla-statcan-analysis/notebooks/../src/datasets/joins.py:95: UserWarning: Tiles already have labels matching HEXUID_PCPUID, skipping labelling.\n",
      "  warnings.warn(f\"Tiles already have labels matching {geom_index}, skipping labelling.\")\n"
     ]
    }
   ],
   "source": [
    "# speed_data = joins.add_tile_info(speed_data, selected_tiles.drop(\"HEXUID_PCPUID\", axis=1), \"HEXUID_PCPUID\")\n",
    "speed_data = joins.add_tile_info(speed_data, selected_tiles, \"HEXUID_PCPUID\")"
   ]
  },
  {
   "cell_type": "code",
   "execution_count": 33,
   "metadata": {},
   "outputs": [
    {
     "data": {
      "text/plain": [
       "Index(['PCPUID', 'HEXUID_PCPUID', 'PRCODE', 'PCNAME', 'PCCLASS', 'Pop2016',\n",
       "       'TDwell2016_TLog2016', 'URDwell2016_RH2016', 'PHH_Count', 'Common_Type',\n",
       "       'Pop2016_at_50_10_Combined', 'TDwell2016_at_50_10_Combined',\n",
       "       'URDwell_at_50_10_Combined', 'Pop_Avail_50_10', 'TDwell_Avail_50_10',\n",
       "       'URDwell_Avail_50_10', 'geometry', 'avg_d_kbps', 'std_d_kbps',\n",
       "       'min_d_kbps', '25p_d_kbps', '50p_d_kbps', '75p_d_kbps', 'max_d_kbps',\n",
       "       'avg_u_kbps', 'std_u_kbps', 'min_u_kbps', '25p_u_kbps', '50p_u_kbps',\n",
       "       '75p_u_kbps', 'max_u_kbps', 'avg_lat_ms', 'tests', 'ave_tests_per_tile',\n",
       "       'unique_devices', 'ave_devices_per_tile', 'num_tiles',\n",
       "       '50_down_percentile', '10_up_percentile', 'ookla_50_10_percentile',\n",
       "       'min_year', 'max_year', 'connections'],\n",
       "      dtype='object')"
      ]
     },
     "execution_count": 33,
     "metadata": {},
     "output_type": "execute_result"
    }
   ],
   "source": [
    "speed_data.columns"
   ]
  },
  {
   "cell_type": "code",
   "execution_count": 34,
   "metadata": {},
   "outputs": [],
   "source": [
    "def year_serializeable(tuple_or_na):\n",
    "    if pd.isna(tuple_or_na):\n",
    "        return \"No Data\"\n",
    "    return \"Q{1} {0}\".format(*tuple_or_na)\n",
    "\n",
    "def connections_serializeable(set_):\n",
    "    if set_ == {'fixed'}:\n",
    "        return 'fixed'\n",
    "    elif set_ == {'fixed','mobile'}:\n",
    "        return 'fixed and mobile'\n",
    "    elif set_ == {'mobile'}:\n",
    "        return 'mobile'\n",
    "    else:\n",
    "        return 'No Data'\n",
    "\n",
    "\n",
    "pat = '(\\d\\d)p_*'\n",
    "t = '25p_d_kbps'\n",
    "fix_bad_names = lambda x: re.sub(pat, lambda s:f'P{s.group(1)}_', x)"
   ]
  },
  {
   "cell_type": "code",
   "execution_count": 35,
   "metadata": {},
   "outputs": [],
   "source": [
    "speed_data['min_year'] = speed_data['min_year'].apply(year_serializeable)\n",
    "speed_data['max_year'] = speed_data['max_year'].apply(year_serializeable)\n",
    "speed_data['connections'] = speed_data['connections'].apply(connections_serializeable)\n",
    "\n",
    "speed_data.rename(columns=fix_bad_names, inplace=True)\n",
    "speed_data.rename(columns={'50_down_percentile':'Down_50_percentile', '10_up_percentile':'Up_10_percentile'}, inplace=True)"
   ]
  },
  {
   "cell_type": "code",
   "execution_count": 36,
   "metadata": {},
   "outputs": [],
   "source": [
    "speed_data.rename(columns=fix_bad_names, inplace=True)\n",
    "speed_data.rename(columns={'50_down_percentile':'Down_50_percentile', '10_up_percentile':'Up_10_percentile'}, inplace=True)"
   ]
  },
  {
   "cell_type": "code",
   "execution_count": 37,
   "metadata": {},
   "outputs": [
    {
     "data": {
      "text/plain": [
       "<Geographic 2D CRS: EPSG:4326>\n",
       "Name: WGS 84\n",
       "Axis Info [ellipsoidal]:\n",
       "- Lat[north]: Geodetic latitude (degree)\n",
       "- Lon[east]: Geodetic longitude (degree)\n",
       "Area of Use:\n",
       "- name: World.\n",
       "- bounds: (-180.0, -90.0, 180.0, 90.0)\n",
       "Datum: World Geodetic System 1984 ensemble\n",
       "- Ellipsoid: WGS 84\n",
       "- Prime Meridian: Greenwich"
      ]
     },
     "execution_count": 37,
     "metadata": {},
     "output_type": "execute_result"
    }
   ],
   "source": [
    "speed_data.crs"
   ]
  },
  {
   "cell_type": "code",
   "execution_count": 38,
   "metadata": {},
   "outputs": [
    {
     "data": {
      "text/html": [
       "<div>\n",
       "<style scoped>\n",
       "    .dataframe tbody tr th:only-of-type {\n",
       "        vertical-align: middle;\n",
       "    }\n",
       "\n",
       "    .dataframe tbody tr th {\n",
       "        vertical-align: top;\n",
       "    }\n",
       "\n",
       "    .dataframe thead th {\n",
       "        text-align: right;\n",
       "    }\n",
       "</style>\n",
       "<table border=\"1\" class=\"dataframe\">\n",
       "  <thead>\n",
       "    <tr style=\"text-align: right;\">\n",
       "      <th></th>\n",
       "      <th>quadkey</th>\n",
       "      <th>geometry</th>\n",
       "      <th>avg_d_kbps</th>\n",
       "      <th>avg_u_kbps</th>\n",
       "      <th>avg_lat_ms</th>\n",
       "      <th>tests</th>\n",
       "      <th>devices</th>\n",
       "      <th>conn_type</th>\n",
       "      <th>year</th>\n",
       "      <th>quarter</th>\n",
       "      <th>HEXUID_PCPUID</th>\n",
       "    </tr>\n",
       "  </thead>\n",
       "  <tbody>\n",
       "    <tr>\n",
       "      <th>6590</th>\n",
       "      <td>211222030333113</td>\n",
       "      <td>POLYGON ((-111.45081 56.77380, -111.44531 56.7...</td>\n",
       "      <td>191949</td>\n",
       "      <td>147747</td>\n",
       "      <td>14</td>\n",
       "      <td>56</td>\n",
       "      <td>13</td>\n",
       "      <td>fixed</td>\n",
       "      <td>2022</td>\n",
       "      <td>3</td>\n",
       "      <td>AB56801115</td>\n",
       "    </tr>\n",
       "    <tr>\n",
       "      <th>679294</th>\n",
       "      <td>211222030333102</td>\n",
       "      <td>POLYGON ((-111.46729 56.77380, -111.46179 56.7...</td>\n",
       "      <td>179066</td>\n",
       "      <td>157622</td>\n",
       "      <td>8</td>\n",
       "      <td>4</td>\n",
       "      <td>2</td>\n",
       "      <td>fixed</td>\n",
       "      <td>2022</td>\n",
       "      <td>3</td>\n",
       "      <td>AB56801115</td>\n",
       "    </tr>\n",
       "    <tr>\n",
       "      <th>742843</th>\n",
       "      <td>211222030333121</td>\n",
       "      <td>POLYGON ((-111.46179 56.77079, -111.45630 56.7...</td>\n",
       "      <td>124226</td>\n",
       "      <td>31912</td>\n",
       "      <td>14</td>\n",
       "      <td>43</td>\n",
       "      <td>9</td>\n",
       "      <td>fixed</td>\n",
       "      <td>2022</td>\n",
       "      <td>3</td>\n",
       "      <td>AB56801115</td>\n",
       "    </tr>\n",
       "    <tr>\n",
       "      <th>742855</th>\n",
       "      <td>211222030333121</td>\n",
       "      <td>POLYGON ((-111.46179 56.77079, -111.45630 56.7...</td>\n",
       "      <td>160901</td>\n",
       "      <td>16359</td>\n",
       "      <td>36</td>\n",
       "      <td>2</td>\n",
       "      <td>2</td>\n",
       "      <td>mobile</td>\n",
       "      <td>2022</td>\n",
       "      <td>3</td>\n",
       "      <td>AB56801115</td>\n",
       "    </tr>\n",
       "    <tr>\n",
       "      <th>884213</th>\n",
       "      <td>211222031220220</td>\n",
       "      <td>POLYGON ((-111.44531 56.78283, -111.43982 56.7...</td>\n",
       "      <td>220680</td>\n",
       "      <td>155039</td>\n",
       "      <td>11</td>\n",
       "      <td>8</td>\n",
       "      <td>4</td>\n",
       "      <td>fixed</td>\n",
       "      <td>2022</td>\n",
       "      <td>3</td>\n",
       "      <td>AB56801115</td>\n",
       "    </tr>\n",
       "    <tr>\n",
       "      <th>...</th>\n",
       "      <td>...</td>\n",
       "      <td>...</td>\n",
       "      <td>...</td>\n",
       "      <td>...</td>\n",
       "      <td>...</td>\n",
       "      <td>...</td>\n",
       "      <td>...</td>\n",
       "      <td>...</td>\n",
       "      <td>...</td>\n",
       "      <td>...</td>\n",
       "      <td>...</td>\n",
       "    </tr>\n",
       "    <tr>\n",
       "      <th>2020709</th>\n",
       "      <td>211222030333112</td>\n",
       "      <td>POLYGON ((-111.45630 56.77380, -111.45081 56.7...</td>\n",
       "      <td>118043</td>\n",
       "      <td>11933</td>\n",
       "      <td>41</td>\n",
       "      <td>1</td>\n",
       "      <td>1</td>\n",
       "      <td>mobile</td>\n",
       "      <td>2019</td>\n",
       "      <td>1</td>\n",
       "      <td>AB56801115</td>\n",
       "    </tr>\n",
       "    <tr>\n",
       "      <th>2526591</th>\n",
       "      <td>211222030333030</td>\n",
       "      <td>POLYGON ((-111.47827 56.77079, -111.47278 56.7...</td>\n",
       "      <td>184673</td>\n",
       "      <td>21999</td>\n",
       "      <td>11</td>\n",
       "      <td>6</td>\n",
       "      <td>4</td>\n",
       "      <td>fixed</td>\n",
       "      <td>2019</td>\n",
       "      <td>1</td>\n",
       "      <td>AB56801115</td>\n",
       "    </tr>\n",
       "    <tr>\n",
       "      <th>2767286</th>\n",
       "      <td>211222030333103</td>\n",
       "      <td>POLYGON ((-111.46179 56.77380, -111.45630 56.7...</td>\n",
       "      <td>108014</td>\n",
       "      <td>15902</td>\n",
       "      <td>19</td>\n",
       "      <td>10</td>\n",
       "      <td>2</td>\n",
       "      <td>fixed</td>\n",
       "      <td>2019</td>\n",
       "      <td>1</td>\n",
       "      <td>AB56801115</td>\n",
       "    </tr>\n",
       "    <tr>\n",
       "      <th>3999430</th>\n",
       "      <td>211222030333101</td>\n",
       "      <td>POLYGON ((-111.46179 56.77681, -111.45630 56.7...</td>\n",
       "      <td>93396</td>\n",
       "      <td>85749</td>\n",
       "      <td>9</td>\n",
       "      <td>1</td>\n",
       "      <td>1</td>\n",
       "      <td>fixed</td>\n",
       "      <td>2019</td>\n",
       "      <td>1</td>\n",
       "      <td>AB56801115</td>\n",
       "    </tr>\n",
       "    <tr>\n",
       "      <th>4024911</th>\n",
       "      <td>211222030332131</td>\n",
       "      <td>POLYGON ((-111.49475 56.77079, -111.48926 56.7...</td>\n",
       "      <td>334160</td>\n",
       "      <td>20443</td>\n",
       "      <td>18</td>\n",
       "      <td>1</td>\n",
       "      <td>1</td>\n",
       "      <td>fixed</td>\n",
       "      <td>2019</td>\n",
       "      <td>1</td>\n",
       "      <td>AB56801115</td>\n",
       "    </tr>\n",
       "  </tbody>\n",
       "</table>\n",
       "<p>232 rows × 11 columns</p>\n",
       "</div>"
      ],
      "text/plain": [
       "                 quadkey                                           geometry  \\\n",
       "6590     211222030333113  POLYGON ((-111.45081 56.77380, -111.44531 56.7...   \n",
       "679294   211222030333102  POLYGON ((-111.46729 56.77380, -111.46179 56.7...   \n",
       "742843   211222030333121  POLYGON ((-111.46179 56.77079, -111.45630 56.7...   \n",
       "742855   211222030333121  POLYGON ((-111.46179 56.77079, -111.45630 56.7...   \n",
       "884213   211222031220220  POLYGON ((-111.44531 56.78283, -111.43982 56.7...   \n",
       "...                  ...                                                ...   \n",
       "2020709  211222030333112  POLYGON ((-111.45630 56.77380, -111.45081 56.7...   \n",
       "2526591  211222030333030  POLYGON ((-111.47827 56.77079, -111.47278 56.7...   \n",
       "2767286  211222030333103  POLYGON ((-111.46179 56.77380, -111.45630 56.7...   \n",
       "3999430  211222030333101  POLYGON ((-111.46179 56.77681, -111.45630 56.7...   \n",
       "4024911  211222030332131  POLYGON ((-111.49475 56.77079, -111.48926 56.7...   \n",
       "\n",
       "         avg_d_kbps  avg_u_kbps  avg_lat_ms  tests  devices conn_type  year  \\\n",
       "6590         191949      147747          14     56       13     fixed  2022   \n",
       "679294       179066      157622           8      4        2     fixed  2022   \n",
       "742843       124226       31912          14     43        9     fixed  2022   \n",
       "742855       160901       16359          36      2        2    mobile  2022   \n",
       "884213       220680      155039          11      8        4     fixed  2022   \n",
       "...             ...         ...         ...    ...      ...       ...   ...   \n",
       "2020709      118043       11933          41      1        1    mobile  2019   \n",
       "2526591      184673       21999          11      6        4     fixed  2019   \n",
       "2767286      108014       15902          19     10        2     fixed  2019   \n",
       "3999430       93396       85749           9      1        1     fixed  2019   \n",
       "4024911      334160       20443          18      1        1     fixed  2019   \n",
       "\n",
       "         quarter HEXUID_PCPUID  \n",
       "6590           3    AB56801115  \n",
       "679294         3    AB56801115  \n",
       "742843         3    AB56801115  \n",
       "742855         3    AB56801115  \n",
       "884213         3    AB56801115  \n",
       "...          ...           ...  \n",
       "2020709        1    AB56801115  \n",
       "2526591        1    AB56801115  \n",
       "2767286        1    AB56801115  \n",
       "3999430        1    AB56801115  \n",
       "4024911        1    AB56801115  \n",
       "\n",
       "[232 rows x 11 columns]"
      ]
     },
     "execution_count": 38,
     "metadata": {},
     "output_type": "execute_result"
    }
   ],
   "source": [
    "tiles.loc[lambda s:s.HEXUID_PCPUID == \"AB56801115\"].sort_values(by=[\"year\",\"quarter\"],ascending=False)"
   ]
  },
  {
   "cell_type": "code",
   "execution_count": null,
   "metadata": {},
   "outputs": [],
   "source": [
    "speed_data.loc[lambda s:s.PRCODE == \"AB\"].loc[lambda s:s.Pop2016>0].explore(\n",
    "    'ookla_50_10_percentile',scheme='equalinterval', k = 4, \n",
    "    tooltip=['HEXUID_PCPUID','PCNAME','Pop2016','Pop_Avail_50_10','ookla_50_10_percentile'],\n",
    "    popup=[\n",
    "        'HEXUID_PCPUID','PCNAME',\n",
    "        'min_d_kbps','avg_d_kbps','max_d_kbps',\n",
    "        'min_u_kbps','avg_u_kbps','max_u_kbps',\n",
    "        'Pop2016','tests','num_tiles','unique_devices', 'min_year','max_year','connections',\n",
    "        'Pop_Avail_50_10','ookla_50_10_percentile','Down_50_percentile','Up_10_percentile']\n",
    "    )"
   ]
  },
  {
   "cell_type": "code",
   "execution_count": 40,
   "metadata": {},
   "outputs": [
    {
     "data": {
      "text/plain": [
       "'AB56801115'"
      ]
     },
     "execution_count": 40,
     "metadata": {},
     "output_type": "execute_result"
    }
   ],
   "source": [
    "\"AB56801115\""
   ]
  },
  {
   "cell_type": "code",
   "execution_count": null,
   "metadata": {},
   "outputs": [],
   "source": [
    "speed_data.loc[lambda s:(s.Pop2016 > 0.0) | (s.tests > 0.0)].to_file(output_dir / output_name, driver=\"MapInfo File\")\n"
   ]
  },
  {
   "cell_type": "code",
   "execution_count": 46,
   "metadata": {},
   "outputs": [],
   "source": [
    "speed_data.loc[lambda s:(s.Pop2016 > 0.0) | (s.tests > 0.0)].to_file(output_dir / (output_name+\".gpkg\"), driver=\"GPKG\")"
   ]
  },
  {
   "cell_type": "code",
   "execution_count": 59,
   "metadata": {},
   "outputs": [
    {
     "data": {
      "text/plain": [
       "Index(['PCPUID', 'HEXUID_PCPUID', 'PRCODE', 'PCNAME', 'PCCLASS', 'Pop2016',\n",
       "       'TDwell2016_TLog2016', 'URDwell2016_RH2016', 'PHH_Count', 'Common_Type',\n",
       "       'Pop2016_at_50_10_Combined', 'TDwell2016_at_50_10_Combined',\n",
       "       'URDwell_at_50_10_Combined', 'Pop_Avail_50_10', 'TDwell_Avail_50_10',\n",
       "       'URDwell_Avail_50_10', 'geometry', 'avg_d_kbps', 'std_d_kbps',\n",
       "       'min_d_kbps', 'P25_d_kbps', 'P50_d_kbps', 'P75_d_kbps', 'max_d_kbps',\n",
       "       'avg_u_kbps', 'std_u_kbps', 'min_u_kbps', 'P25_u_kbps', 'P50_u_kbps',\n",
       "       'P75_u_kbps', 'max_u_kbps', 'avg_lat_ms', 'tests', 'ave_tests_per_tile',\n",
       "       'unique_devices', 'ave_devices_per_tile', 'num_tiles',\n",
       "       'Down_50_percentile', 'Up_10_percentile', 'ookla_50_10_percentile',\n",
       "       'min_year', 'max_year', 'connections'],\n",
       "      dtype='object')"
      ]
     },
     "execution_count": 59,
     "metadata": {},
     "output_type": "execute_result"
    }
   ],
   "source": [
    "speed_data.columns"
   ]
  },
  {
   "cell_type": "code",
   "execution_count": 48,
   "metadata": {},
   "outputs": [
    {
     "data": {
      "text/plain": [
       "PosixPath('/Users/zacharyshand/ookla-statcan-analysis/notebooks/../data/processed/statistical_geometries/LastFourQuartersOrBestEstimate_On_DissolvedSmallerCitiesHexesgpkg')"
      ]
     },
     "execution_count": 48,
     "metadata": {},
     "output_type": "execute_result"
    }
   ],
   "source": [
    "output_dir / (output_name+\"gpkg\")"
   ]
  },
  {
   "cell_type": "code",
   "execution_count": 68,
   "metadata": {},
   "outputs": [],
   "source": [
    "# reloaded_speed_data = gp.read_file(output_dir / output_name, driver=\"MapInfo File\") ## doesn't encode nans; converts to zeros T_T\n",
    "reloaded_speed_data = gp.read_file(output_dir / (output_name+\".gpkg\"), driver=\"GPKG\")"
   ]
  },
  {
   "cell_type": "code",
   "execution_count": 51,
   "metadata": {},
   "outputs": [
    {
     "data": {
      "text/html": [
       "<div>\n",
       "<style scoped>\n",
       "    .dataframe tbody tr th:only-of-type {\n",
       "        vertical-align: middle;\n",
       "    }\n",
       "\n",
       "    .dataframe tbody tr th {\n",
       "        vertical-align: top;\n",
       "    }\n",
       "\n",
       "    .dataframe thead th {\n",
       "        text-align: right;\n",
       "    }\n",
       "</style>\n",
       "<table border=\"1\" class=\"dataframe\">\n",
       "  <thead>\n",
       "    <tr style=\"text-align: right;\">\n",
       "      <th></th>\n",
       "      <th>PCPUID</th>\n",
       "      <th>HEXUID_PCPUID</th>\n",
       "      <th>PRCODE</th>\n",
       "      <th>PCNAME</th>\n",
       "      <th>PCCLASS</th>\n",
       "      <th>Pop2016</th>\n",
       "      <th>TDwell2016_TLog2016</th>\n",
       "      <th>URDwell2016_RH2016</th>\n",
       "      <th>PHH_Count</th>\n",
       "      <th>Common_Type</th>\n",
       "      <th>...</th>\n",
       "      <th>ave_devices_per_tile</th>\n",
       "      <th>num_tiles</th>\n",
       "      <th>Down_50_percentile</th>\n",
       "      <th>Up_10_percentile</th>\n",
       "      <th>ookla_50_10_percentile</th>\n",
       "      <th>min_year</th>\n",
       "      <th>max_year</th>\n",
       "      <th>connections</th>\n",
       "      <th>geometry</th>\n",
       "      <th>Province</th>\n",
       "    </tr>\n",
       "  </thead>\n",
       "  <tbody>\n",
       "    <tr>\n",
       "      <th>1604</th>\n",
       "      <td>480101</td>\n",
       "      <td>480101</td>\n",
       "      <td>AB</td>\n",
       "      <td>Brooks</td>\n",
       "      <td>2</td>\n",
       "      <td>14436.0</td>\n",
       "      <td>5406.0</td>\n",
       "      <td>5040.0</td>\n",
       "      <td>1360.0</td>\n",
       "      <td>4.0</td>\n",
       "      <td>...</td>\n",
       "      <td>3.0</td>\n",
       "      <td>238.0</td>\n",
       "      <td>73.94958</td>\n",
       "      <td>82.352941</td>\n",
       "      <td>73.94958</td>\n",
       "      <td>Q4 2021</td>\n",
       "      <td>Q3 2022</td>\n",
       "      <td>fixed</td>\n",
       "      <td>POLYGON ((-111.88986 50.55387, -111.88985 50.5...</td>\n",
       "      <td>48</td>\n",
       "    </tr>\n",
       "  </tbody>\n",
       "</table>\n",
       "<p>1 rows × 44 columns</p>\n",
       "</div>"
      ],
      "text/plain": [
       "      PCPUID HEXUID_PCPUID PRCODE  PCNAME PCCLASS  Pop2016  \\\n",
       "1604  480101        480101     AB  Brooks       2  14436.0   \n",
       "\n",
       "      TDwell2016_TLog2016  URDwell2016_RH2016  PHH_Count  Common_Type  ...  \\\n",
       "1604               5406.0              5040.0     1360.0          4.0  ...   \n",
       "\n",
       "      ave_devices_per_tile  num_tiles  Down_50_percentile  Up_10_percentile  \\\n",
       "1604                   3.0      238.0            73.94958         82.352941   \n",
       "\n",
       "      ookla_50_10_percentile  min_year  max_year  connections  \\\n",
       "1604                73.94958   Q4 2021   Q3 2022        fixed   \n",
       "\n",
       "                                               geometry  Province  \n",
       "1604  POLYGON ((-111.88986 50.55387, -111.88985 50.5...        48  \n",
       "\n",
       "[1 rows x 44 columns]"
      ]
     },
     "execution_count": 51,
     "metadata": {},
     "output_type": "execute_result"
    }
   ],
   "source": [
    "reloaded_speed_data.loc[lambda s:s.PCNAME=='Brooks']"
   ]
  },
  {
   "cell_type": "code",
   "execution_count": null,
   "metadata": {},
   "outputs": [],
   "source": [
    "reloaded_speed_data.loc[lambda s:s.Pop2016 >0.0].loc[lambda s:s.PRCODE==\"AB\"].explore(\n",
    "    'ookla_50_10_percentile',scheme='equalinterval', k = 4, \n",
    "    tooltip=['HEXUID_PCPUID','PCNAME','Pop2016','Pop_Avail_50_10','ookla_50_10_percentile'],\n",
    "    popup=[\n",
    "        'HEXUID_PCPUID','PCNAME',\n",
    "        'min_d_kbps','avg_d_kbps','max_d_kbps',\n",
    "        'min_u_kbps','avg_u_kbps','max_u_kbps',\n",
    "        'Pop2016','tests','num_tiles','unique_devices', 'min_year','max_year','connections',\n",
    "        'Pop_Avail_50_10','ookla_50_10_percentile','Down_50_percentile','Up_10_percentile']\n",
    "    )"
   ]
  },
  {
   "cell_type": "code",
   "execution_count": 73,
   "metadata": {},
   "outputs": [
    {
     "data": {
      "text/plain": [
       "Index(['PCPUID', 'HEXUID_PCPUID', 'PRCODE', 'PCNAME', 'PCCLASS', 'Pop2016',\n",
       "       'TDwell2016_TLog2016', 'URDwell2016_RH2016', 'PHH_Count', 'Common_Type',\n",
       "       'Pop2016_at_50_10_Combined', 'TDwell2016_at_50_10_Combined',\n",
       "       'URDwell_at_50_10_Combined', 'Pop_Avail_50_10', 'TDwell_Avail_50_10',\n",
       "       'URDwell_Avail_50_10', 'geometry', 'avg_d_kbps', 'std_d_kbps',\n",
       "       'min_d_kbps', 'P25_d_kbps', 'P50_d_kbps', 'P75_d_kbps', 'max_d_kbps',\n",
       "       'avg_u_kbps', 'std_u_kbps', 'min_u_kbps', 'P25_u_kbps', 'P50_u_kbps',\n",
       "       'P75_u_kbps', 'max_u_kbps', 'avg_lat_ms', 'tests', 'ave_tests_per_tile',\n",
       "       'unique_devices', 'ave_devices_per_tile', 'num_tiles',\n",
       "       'Down_50_percentile', 'Up_10_percentile', 'ookla_50_10_percentile',\n",
       "       'min_year', 'max_year', 'connections'],\n",
       "      dtype='object')"
      ]
     },
     "execution_count": 73,
     "metadata": {},
     "output_type": "execute_result"
    }
   ],
   "source": [
    "speed_data.columns"
   ]
  },
  {
   "cell_type": "code",
   "execution_count": 74,
   "metadata": {},
   "outputs": [
    {
     "data": {
      "text/plain": [
       "<AxesSubplot:xlabel='avg_d_kbps', ylabel='P50_d_kbps'>"
      ]
     },
     "execution_count": 74,
     "metadata": {},
     "output_type": "execute_result"
    },
    {
     "data": {
      "image/png": "[encoded data removed]",
      "text/plain": [
       "<Figure size 432x288 with 1 Axes>"
      ]
     },
     "metadata": {
      "needs_background": "light"
     },
     "output_type": "display_data"
    }
   ],
   "source": [
    "speed_data.plot.scatter(x='avg_d_kbps',y='P50_d_kbps',alpha=0.2)"
   ]
  },
  {
   "cell_type": "code",
   "execution_count": 75,
   "metadata": {},
   "outputs": [
    {
     "data": {
      "text/plain": [
       "<matplotlib.lines.Line2D at 0x1885310f0>"
      ]
     },
     "execution_count": 75,
     "metadata": {},
     "output_type": "execute_result"
    },
    {
     "data": {
      "image/png": "[encoded data removed]",
      "text/plain": [
       "<Figure size 432x288 with 1 Axes>"
      ]
     },
     "metadata": {
      "needs_background": "light"
     },
     "output_type": "display_data"
    }
   ],
   "source": [
    "speed_data['avg_d_kbps'].plot.hist(bins=range(0,100000,1000))\n",
    "plt.gca().axvline(50000,color='k')"
   ]
  },
  {
   "cell_type": "code",
   "execution_count": 76,
   "metadata": {},
   "outputs": [
    {
     "data": {
      "text/plain": [
       "<matplotlib.lines.Line2D at 0x1c2fead40>"
      ]
     },
     "execution_count": 76,
     "metadata": {},
     "output_type": "execute_result"
    },
    {
     "data": {
      "image/png": "[encoded data removed]",
      "text/plain": [
       "<Figure size 432x288 with 1 Axes>"
      ]
     },
     "metadata": {
      "needs_background": "light"
     },
     "output_type": "display_data"
    }
   ],
   "source": [
    "speed_data.loc[lambda s:~(s.PCCLASS == '4')]['P75_d_kbps'].plot.hist(bins=range(0,400000,5000), density=True, alpha=0.75)\n",
    "speed_data.loc[lambda s:(s.PCCLASS == '4')]['P75_d_kbps'].plot.hist(bins=range(0,400000,5000), density=True,alpha=0.75)\n",
    "plt.gca().axvline(50000,color='k')"
   ]
  },
  {
   "cell_type": "code",
   "execution_count": 77,
   "metadata": {},
   "outputs": [
    {
     "data": {
      "text/plain": [
       "<matplotlib.lines.Line2D at 0x1c2f95e40>"
      ]
     },
     "execution_count": 77,
     "metadata": {},
     "output_type": "execute_result"
    },
    {
     "data": {
      "image/png": "[encoded data removed]",
      "text/plain": [
       "<Figure size 432x288 with 1 Axes>"
      ]
     },
     "metadata": {
      "needs_background": "light"
     },
     "output_type": "display_data"
    }
   ],
   "source": [
    "speed_data.loc[lambda s:pd.isna(s.PCCLASS)]['P75_u_kbps'].plot.hist(bins=range(0,250000,5000), density=True, alpha=0.75)\n",
    "speed_data.loc[lambda s:~pd.isna(s.PCCLASS)]['P75_u_kbps'].plot.hist(bins=range(0,250000,5000), density=True, alpha=0.75)\n",
    "plt.gca().axvline(10000,color='k')"
   ]
  },
  {
   "cell_type": "code",
   "execution_count": 78,
   "metadata": {},
   "outputs": [
    {
     "data": {
      "text/plain": [
       "<matplotlib.lines.Line2D at 0x1c338a0b0>"
      ]
     },
     "execution_count": 78,
     "metadata": {},
     "output_type": "execute_result"
    },
    {
     "data": {
      "image/png": "[encoded data removed]",
      "text/plain": [
       "<Figure size 432x288 with 1 Axes>"
      ]
     },
     "metadata": {
      "needs_background": "light"
     },
     "output_type": "display_data"
    }
   ],
   "source": [
    "speed_data.loc[lambda s:pd.isna(s.PCPUID)]['P75_u_kbps'].plot.hist(bins=range(0,200000,5000))\n",
    "plt.gca().axvline(10000,color='k')"
   ]
  },
  {
   "cell_type": "code",
   "execution_count": 79,
   "metadata": {},
   "outputs": [
    {
     "data": {
      "image/png": "[encoded data removed]",
      "text/plain": [
       "<Figure size 432x288 with 1 Axes>"
      ]
     },
     "metadata": {
      "needs_background": "light"
     },
     "output_type": "display_data"
    }
   ],
   "source": [
    "ax = speed_data.loc[lambda s:(s.Pop_Avail_50_10 > 0) & (s.ookla_50_10_percentile)].loc[lambda s:s.PCCLASS.isna()].plot.scatter(x='Pop_Avail_50_10', y='ookla_50_10_percentile', alpha=.1)\n",
    "ax.plot([0,100], [0,100], color='k', lw=2);"
   ]
  },
  {
   "cell_type": "code",
   "execution_count": 80,
   "metadata": {},
   "outputs": [
    {
     "data": {
      "image/png": "[encoded data removed]",
      "text/plain": [
       "<Figure size 432x288 with 1 Axes>"
      ]
     },
     "metadata": {
      "needs_background": "light"
     },
     "output_type": "display_data"
    }
   ],
   "source": [
    "thing =speed_data.loc[lambda s:(s.Pop_Avail_50_10 > 0) & (s.ookla_50_10_percentile)]\n",
    "plt.hist2d(thing['Pop_Avail_50_10'], thing['ookla_50_10_percentile'], bins=20, range=[(0,100),(0,100)]);"
   ]
  },
  {
   "cell_type": "code",
   "execution_count": 81,
   "metadata": {},
   "outputs": [
    {
     "data": {
      "text/plain": [
       "<AxesSubplot:>"
      ]
     },
     "execution_count": 81,
     "metadata": {},
     "output_type": "execute_result"
    },
    {
     "data": {
      "image/png": "[encoded data removed]",
      "text/plain": [
       "<Figure size 432x288 with 1 Axes>"
      ]
     },
     "metadata": {
      "needs_background": "light"
     },
     "output_type": "display_data"
    }
   ],
   "source": [
    "speed_data.loc[lambda s:s.Pop_Avail_50_10>0].apply(lambda s:s.ookla_50_10_percentile/s.Pop_Avail_50_10 if s.Pop_Avail_50_10 > 0 else 0, axis=1).hist(bins=20, range=[0,2])"
   ]
  },
  {
   "cell_type": "code",
   "execution_count": 82,
   "metadata": {},
   "outputs": [
    {
     "data": {
      "text/plain": [
       "<AxesSubplot:>"
      ]
     },
     "execution_count": 82,
     "metadata": {},
     "output_type": "execute_result"
    },
    {
     "data": {
      "image/png": "[encoded data removed]",
      "text/plain": [
       "<Figure size 432x288 with 1 Axes>"
      ]
     },
     "metadata": {
      "needs_background": "light"
     },
     "output_type": "display_data"
    }
   ],
   "source": [
    "speed_data.loc[lambda s:s.Pop_Avail_50_10>0].apply(lambda s:s.ookla_50_10_percentile-s.Pop_Avail_50_10, axis=1).hist(bins=50)#, range=[0,2])\n"
   ]
  },
  {
   "cell_type": "code",
   "execution_count": 83,
   "metadata": {},
   "outputs": [
    {
     "data": {
      "text/html": [
       "<div>\n",
       "<style scoped>\n",
       "    .dataframe tbody tr th:only-of-type {\n",
       "        vertical-align: middle;\n",
       "    }\n",
       "\n",
       "    .dataframe tbody tr th {\n",
       "        vertical-align: top;\n",
       "    }\n",
       "\n",
       "    .dataframe thead th {\n",
       "        text-align: right;\n",
       "    }\n",
       "</style>\n",
       "<table border=\"1\" class=\"dataframe\">\n",
       "  <thead>\n",
       "    <tr style=\"text-align: right;\">\n",
       "      <th></th>\n",
       "      <th>PCPUID</th>\n",
       "      <th>HEXUID_PCPUID</th>\n",
       "      <th>PRCODE</th>\n",
       "      <th>PCNAME</th>\n",
       "      <th>PCCLASS</th>\n",
       "      <th>Pop2016</th>\n",
       "      <th>TDwell2016_TLog2016</th>\n",
       "      <th>URDwell2016_RH2016</th>\n",
       "      <th>PHH_Count</th>\n",
       "      <th>Common_Type</th>\n",
       "      <th>...</th>\n",
       "      <th>ave_tests_per_tile</th>\n",
       "      <th>unique_devices</th>\n",
       "      <th>ave_devices_per_tile</th>\n",
       "      <th>num_tiles</th>\n",
       "      <th>Down_50_percentile</th>\n",
       "      <th>Up_10_percentile</th>\n",
       "      <th>ookla_50_10_percentile</th>\n",
       "      <th>min_year</th>\n",
       "      <th>max_year</th>\n",
       "      <th>connections</th>\n",
       "    </tr>\n",
       "  </thead>\n",
       "  <tbody>\n",
       "    <tr>\n",
       "      <th>0</th>\n",
       "      <td>100792</td>\n",
       "      <td>NL47580528-100792</td>\n",
       "      <td>NL</td>\n",
       "      <td>St. John's</td>\n",
       "      <td>4</td>\n",
       "      <td>9896.147562</td>\n",
       "      <td>5058.332094</td>\n",
       "      <td>4318.056742</td>\n",
       "      <td>685.0</td>\n",
       "      <td>3.0</td>\n",
       "      <td>...</td>\n",
       "      <td>20.750000</td>\n",
       "      <td>1517.0</td>\n",
       "      <td>6.772321</td>\n",
       "      <td>224.0</td>\n",
       "      <td>89.732143</td>\n",
       "      <td>96.428571</td>\n",
       "      <td>89.732143</td>\n",
       "      <td>Q4 2021</td>\n",
       "      <td>Q3 2022</td>\n",
       "      <td>fixed</td>\n",
       "    </tr>\n",
       "    <tr>\n",
       "      <th>1</th>\n",
       "      <td>100792</td>\n",
       "      <td>NL47580529-100792</td>\n",
       "      <td>NL</td>\n",
       "      <td>St. John's</td>\n",
       "      <td>4</td>\n",
       "      <td>4252.819048</td>\n",
       "      <td>1648.265873</td>\n",
       "      <td>1558.259524</td>\n",
       "      <td>437.0</td>\n",
       "      <td>4.0</td>\n",
       "      <td>...</td>\n",
       "      <td>6.870588</td>\n",
       "      <td>341.0</td>\n",
       "      <td>2.005882</td>\n",
       "      <td>170.0</td>\n",
       "      <td>91.764706</td>\n",
       "      <td>95.294118</td>\n",
       "      <td>91.764706</td>\n",
       "      <td>Q4 2021</td>\n",
       "      <td>Q3 2022</td>\n",
       "      <td>fixed</td>\n",
       "    </tr>\n",
       "    <tr>\n",
       "      <th>2</th>\n",
       "      <td>100792</td>\n",
       "      <td>NL47710527-100792</td>\n",
       "      <td>NL</td>\n",
       "      <td>St. John's</td>\n",
       "      <td>4</td>\n",
       "      <td>0.000000</td>\n",
       "      <td>0.000000</td>\n",
       "      <td>0.000000</td>\n",
       "      <td>NaN</td>\n",
       "      <td>NaN</td>\n",
       "      <td>...</td>\n",
       "      <td>NaN</td>\n",
       "      <td>NaN</td>\n",
       "      <td>NaN</td>\n",
       "      <td>NaN</td>\n",
       "      <td>NaN</td>\n",
       "      <td>NaN</td>\n",
       "      <td>NaN</td>\n",
       "      <td>No Data</td>\n",
       "      <td>No Data</td>\n",
       "      <td>No Data</td>\n",
       "    </tr>\n",
       "    <tr>\n",
       "      <th>3</th>\n",
       "      <td>100792</td>\n",
       "      <td>NL47430528-100792</td>\n",
       "      <td>NL</td>\n",
       "      <td>St. John's</td>\n",
       "      <td>4</td>\n",
       "      <td>2662.527342</td>\n",
       "      <td>1056.284918</td>\n",
       "      <td>1025.692964</td>\n",
       "      <td>149.0</td>\n",
       "      <td>3.0</td>\n",
       "      <td>...</td>\n",
       "      <td>14.592593</td>\n",
       "      <td>90.0</td>\n",
       "      <td>3.333333</td>\n",
       "      <td>27.0</td>\n",
       "      <td>100.000000</td>\n",
       "      <td>100.000000</td>\n",
       "      <td>100.000000</td>\n",
       "      <td>Q4 2021</td>\n",
       "      <td>Q3 2022</td>\n",
       "      <td>fixed</td>\n",
       "    </tr>\n",
       "    <tr>\n",
       "      <th>4</th>\n",
       "      <td>100792</td>\n",
       "      <td>NL47510528-100792</td>\n",
       "      <td>NL</td>\n",
       "      <td>St. John's</td>\n",
       "      <td>4</td>\n",
       "      <td>24029.650382</td>\n",
       "      <td>10449.110393</td>\n",
       "      <td>9692.839561</td>\n",
       "      <td>1684.0</td>\n",
       "      <td>3.0</td>\n",
       "      <td>...</td>\n",
       "      <td>19.819277</td>\n",
       "      <td>1889.0</td>\n",
       "      <td>5.689759</td>\n",
       "      <td>332.0</td>\n",
       "      <td>93.373494</td>\n",
       "      <td>98.192771</td>\n",
       "      <td>93.373494</td>\n",
       "      <td>Q4 2021</td>\n",
       "      <td>Q3 2022</td>\n",
       "      <td>fixed</td>\n",
       "    </tr>\n",
       "    <tr>\n",
       "      <th>...</th>\n",
       "      <td>...</td>\n",
       "      <td>...</td>\n",
       "      <td>...</td>\n",
       "      <td>...</td>\n",
       "      <td>...</td>\n",
       "      <td>...</td>\n",
       "      <td>...</td>\n",
       "      <td>...</td>\n",
       "      <td>...</td>\n",
       "      <td>...</td>\n",
       "      <td>...</td>\n",
       "      <td>...</td>\n",
       "      <td>...</td>\n",
       "      <td>...</td>\n",
       "      <td>...</td>\n",
       "      <td>...</td>\n",
       "      <td>...</td>\n",
       "      <td>...</td>\n",
       "      <td>...</td>\n",
       "      <td>...</td>\n",
       "      <td>...</td>\n",
       "    </tr>\n",
       "    <tr>\n",
       "      <th>518090</th>\n",
       "      <td>None</td>\n",
       "      <td>BC53331204</td>\n",
       "      <td>BC</td>\n",
       "      <td>None</td>\n",
       "      <td>None</td>\n",
       "      <td>0.000000</td>\n",
       "      <td>0.000000</td>\n",
       "      <td>0.000000</td>\n",
       "      <td>1.0</td>\n",
       "      <td>1.0</td>\n",
       "      <td>...</td>\n",
       "      <td>NaN</td>\n",
       "      <td>NaN</td>\n",
       "      <td>NaN</td>\n",
       "      <td>NaN</td>\n",
       "      <td>NaN</td>\n",
       "      <td>NaN</td>\n",
       "      <td>NaN</td>\n",
       "      <td>No Data</td>\n",
       "      <td>No Data</td>\n",
       "      <td>No Data</td>\n",
       "    </tr>\n",
       "    <tr>\n",
       "      <th>518091</th>\n",
       "      <td>None</td>\n",
       "      <td>BC52891204</td>\n",
       "      <td>BC</td>\n",
       "      <td>None</td>\n",
       "      <td>None</td>\n",
       "      <td>0.000000</td>\n",
       "      <td>0.000000</td>\n",
       "      <td>0.000000</td>\n",
       "      <td>NaN</td>\n",
       "      <td>NaN</td>\n",
       "      <td>...</td>\n",
       "      <td>NaN</td>\n",
       "      <td>NaN</td>\n",
       "      <td>NaN</td>\n",
       "      <td>NaN</td>\n",
       "      <td>NaN</td>\n",
       "      <td>NaN</td>\n",
       "      <td>NaN</td>\n",
       "      <td>No Data</td>\n",
       "      <td>No Data</td>\n",
       "      <td>No Data</td>\n",
       "    </tr>\n",
       "    <tr>\n",
       "      <th>518092</th>\n",
       "      <td>None</td>\n",
       "      <td>BC52661204</td>\n",
       "      <td>BC</td>\n",
       "      <td>None</td>\n",
       "      <td>None</td>\n",
       "      <td>0.000000</td>\n",
       "      <td>0.000000</td>\n",
       "      <td>0.000000</td>\n",
       "      <td>NaN</td>\n",
       "      <td>NaN</td>\n",
       "      <td>...</td>\n",
       "      <td>NaN</td>\n",
       "      <td>NaN</td>\n",
       "      <td>NaN</td>\n",
       "      <td>NaN</td>\n",
       "      <td>NaN</td>\n",
       "      <td>NaN</td>\n",
       "      <td>NaN</td>\n",
       "      <td>No Data</td>\n",
       "      <td>No Data</td>\n",
       "      <td>No Data</td>\n",
       "    </tr>\n",
       "    <tr>\n",
       "      <th>518093</th>\n",
       "      <td>None</td>\n",
       "      <td>BC53111204</td>\n",
       "      <td>BC</td>\n",
       "      <td>None</td>\n",
       "      <td>None</td>\n",
       "      <td>0.000000</td>\n",
       "      <td>0.000000</td>\n",
       "      <td>0.000000</td>\n",
       "      <td>NaN</td>\n",
       "      <td>NaN</td>\n",
       "      <td>...</td>\n",
       "      <td>NaN</td>\n",
       "      <td>NaN</td>\n",
       "      <td>NaN</td>\n",
       "      <td>NaN</td>\n",
       "      <td>NaN</td>\n",
       "      <td>NaN</td>\n",
       "      <td>NaN</td>\n",
       "      <td>No Data</td>\n",
       "      <td>No Data</td>\n",
       "      <td>No Data</td>\n",
       "    </tr>\n",
       "    <tr>\n",
       "      <th>518094</th>\n",
       "      <td>None</td>\n",
       "      <td>BC53561204</td>\n",
       "      <td>BC</td>\n",
       "      <td>None</td>\n",
       "      <td>None</td>\n",
       "      <td>0.000000</td>\n",
       "      <td>0.000000</td>\n",
       "      <td>0.000000</td>\n",
       "      <td>NaN</td>\n",
       "      <td>NaN</td>\n",
       "      <td>...</td>\n",
       "      <td>NaN</td>\n",
       "      <td>NaN</td>\n",
       "      <td>NaN</td>\n",
       "      <td>NaN</td>\n",
       "      <td>NaN</td>\n",
       "      <td>NaN</td>\n",
       "      <td>NaN</td>\n",
       "      <td>No Data</td>\n",
       "      <td>No Data</td>\n",
       "      <td>No Data</td>\n",
       "    </tr>\n",
       "  </tbody>\n",
       "</table>\n",
       "<p>518095 rows × 43 columns</p>\n",
       "</div>"
      ],
      "text/plain": [
       "        PCPUID      HEXUID_PCPUID PRCODE      PCNAME PCCLASS       Pop2016  \\\n",
       "0       100792  NL47580528-100792     NL  St. John's       4   9896.147562   \n",
       "1       100792  NL47580529-100792     NL  St. John's       4   4252.819048   \n",
       "2       100792  NL47710527-100792     NL  St. John's       4      0.000000   \n",
       "3       100792  NL47430528-100792     NL  St. John's       4   2662.527342   \n",
       "4       100792  NL47510528-100792     NL  St. John's       4  24029.650382   \n",
       "...        ...                ...    ...         ...     ...           ...   \n",
       "518090    None         BC53331204     BC        None    None      0.000000   \n",
       "518091    None         BC52891204     BC        None    None      0.000000   \n",
       "518092    None         BC52661204     BC        None    None      0.000000   \n",
       "518093    None         BC53111204     BC        None    None      0.000000   \n",
       "518094    None         BC53561204     BC        None    None      0.000000   \n",
       "\n",
       "        TDwell2016_TLog2016  URDwell2016_RH2016  PHH_Count  Common_Type  ...  \\\n",
       "0               5058.332094         4318.056742      685.0          3.0  ...   \n",
       "1               1648.265873         1558.259524      437.0          4.0  ...   \n",
       "2                  0.000000            0.000000        NaN          NaN  ...   \n",
       "3               1056.284918         1025.692964      149.0          3.0  ...   \n",
       "4              10449.110393         9692.839561     1684.0          3.0  ...   \n",
       "...                     ...                 ...        ...          ...  ...   \n",
       "518090             0.000000            0.000000        1.0          1.0  ...   \n",
       "518091             0.000000            0.000000        NaN          NaN  ...   \n",
       "518092             0.000000            0.000000        NaN          NaN  ...   \n",
       "518093             0.000000            0.000000        NaN          NaN  ...   \n",
       "518094             0.000000            0.000000        NaN          NaN  ...   \n",
       "\n",
       "        ave_tests_per_tile  unique_devices  ave_devices_per_tile  num_tiles  \\\n",
       "0                20.750000          1517.0              6.772321      224.0   \n",
       "1                 6.870588           341.0              2.005882      170.0   \n",
       "2                      NaN             NaN                   NaN        NaN   \n",
       "3                14.592593            90.0              3.333333       27.0   \n",
       "4                19.819277          1889.0              5.689759      332.0   \n",
       "...                    ...             ...                   ...        ...   \n",
       "518090                 NaN             NaN                   NaN        NaN   \n",
       "518091                 NaN             NaN                   NaN        NaN   \n",
       "518092                 NaN             NaN                   NaN        NaN   \n",
       "518093                 NaN             NaN                   NaN        NaN   \n",
       "518094                 NaN             NaN                   NaN        NaN   \n",
       "\n",
       "        Down_50_percentile  Up_10_percentile ookla_50_10_percentile  min_year  \\\n",
       "0                89.732143         96.428571              89.732143   Q4 2021   \n",
       "1                91.764706         95.294118              91.764706   Q4 2021   \n",
       "2                      NaN               NaN                    NaN   No Data   \n",
       "3               100.000000        100.000000             100.000000   Q4 2021   \n",
       "4                93.373494         98.192771              93.373494   Q4 2021   \n",
       "...                    ...               ...                    ...       ...   \n",
       "518090                 NaN               NaN                    NaN   No Data   \n",
       "518091                 NaN               NaN                    NaN   No Data   \n",
       "518092                 NaN               NaN                    NaN   No Data   \n",
       "518093                 NaN               NaN                    NaN   No Data   \n",
       "518094                 NaN               NaN                    NaN   No Data   \n",
       "\n",
       "        max_year  connections  \n",
       "0        Q3 2022        fixed  \n",
       "1        Q3 2022        fixed  \n",
       "2        No Data      No Data  \n",
       "3        Q3 2022        fixed  \n",
       "4        Q3 2022        fixed  \n",
       "...          ...          ...  \n",
       "518090   No Data      No Data  \n",
       "518091   No Data      No Data  \n",
       "518092   No Data      No Data  \n",
       "518093   No Data      No Data  \n",
       "518094   No Data      No Data  \n",
       "\n",
       "[518095 rows x 43 columns]"
      ]
     },
     "execution_count": 83,
     "metadata": {},
     "output_type": "execute_result"
    }
   ],
   "source": [
    "speed_data"
   ]
  },
  {
   "cell_type": "code",
   "execution_count": 84,
   "metadata": {},
   "outputs": [
    {
     "data": {
      "text/plain": [
       "35151728.00000001"
      ]
     },
     "execution_count": 84,
     "metadata": {},
     "output_type": "execute_result"
    }
   ],
   "source": [
    "speed_data.Pop2016.sum()"
   ]
  },
  {
   "cell_type": "code",
   "execution_count": 85,
   "metadata": {},
   "outputs": [
    {
     "name": "stdout",
     "output_type": "stream",
     "text": [
      "28,632,347 >50/10;\n",
      " 6,250,188 <50/10;\n",
      "   269,193 no data;\n",
      "35,151,728 all pop\n"
     ]
    }
   ],
   "source": [
    "print(\"{:10,.0f} >50/10;\\n{:10,.0f} <50/10;\\n{:10,.0f} no data;\\n{:10,.0f} all pop\".format(\n",
    "*[\n",
    "    (speed_data['Pop2016']*speed_data['ookla_50_10_percentile']/100.0).sum(),\n",
    "    (speed_data['Pop2016']*(100-speed_data['ookla_50_10_percentile'])/100.0).sum(),\n",
    "    speed_data[speed_data['ookla_50_10_percentile'].isna()].Pop2016.sum(),\n",
    "    speed_data.Pop2016.sum()\n",
    "]\n",
    ")\n",
    ")"
   ]
  },
  {
   "cell_type": "code",
   "execution_count": 86,
   "metadata": {},
   "outputs": [
    {
     "data": {
      "text/plain": [
       "81.9888541468004"
      ]
     },
     "execution_count": 86,
     "metadata": {},
     "output_type": "execute_result"
    }
   ],
   "source": [
    "28_820_499/35_151_728*100"
   ]
  },
  {
   "cell_type": "code",
   "execution_count": 88,
   "metadata": {},
   "outputs": [
    {
     "name": "stdout",
     "output_type": "stream",
     "text": [
      " 2,825,528 >50/10;\n",
      " 3,575,125 <50/10;\n",
      "   177,345 no data;\n",
      " 6,577,998 all pop\n"
     ]
    }
   ],
   "source": [
    "print(\"{:10,.0f} >50/10;\\n{:10,.0f} <50/10;\\n{:10,.0f} no data;\\n{:10,.0f} all pop\".format(\n",
    "*[\n",
    "    (rural_speed_data['Pop2016']*rural_speed_data['ookla_50_10_percentile']/100.0).sum(),\n",
    "    (rural_speed_data['Pop2016']*(100-rural_speed_data['ookla_50_10_percentile'])/100.0).sum(),\n",
    "    rural_speed_data[rural_speed_data['ookla_50_10_percentile'].isna()].Pop2016.sum(),\n",
    "    rural_speed_data.Pop2016.sum(),\n",
    "]\n",
    ")\n",
    ")"
   ]
  },
  {
   "cell_type": "code",
   "execution_count": 89,
   "metadata": {},
   "outputs": [
    {
     "data": {
      "text/plain": [
       "45.05825328618221"
      ]
     },
     "execution_count": 89,
     "metadata": {},
     "output_type": "execute_result"
    }
   ],
   "source": [
    "2_963_931/6_577_998*100"
   ]
  },
  {
   "cell_type": "code",
   "execution_count": 90,
   "metadata": {},
   "outputs": [
    {
     "data": {
      "text/plain": [
       "Index(['PCPUID', 'HEXUID_PCPUID', 'PRCODE', 'PCNAME', 'PCCLASS', 'Pop2016',\n",
       "       'TDwell2016_TLog2016', 'URDwell2016_RH2016', 'PHH_Count', 'Common_Type',\n",
       "       'Pop2016_at_50_10_Combined', 'TDwell2016_at_50_10_Combined',\n",
       "       'URDwell_at_50_10_Combined', 'Pop_Avail_50_10', 'TDwell_Avail_50_10',\n",
       "       'URDwell_Avail_50_10', 'geometry', 'avg_d_kbps', 'std_d_kbps',\n",
       "       'min_d_kbps', 'P25_d_kbps', 'P50_d_kbps', 'P75_d_kbps', 'max_d_kbps',\n",
       "       'avg_u_kbps', 'std_u_kbps', 'min_u_kbps', 'P25_u_kbps', 'P50_u_kbps',\n",
       "       'P75_u_kbps', 'max_u_kbps', 'avg_lat_ms', 'tests', 'ave_tests_per_tile',\n",
       "       'unique_devices', 'ave_devices_per_tile', 'num_tiles',\n",
       "       'Down_50_percentile', 'Up_10_percentile', 'ookla_50_10_percentile',\n",
       "       'min_year', 'max_year', 'connections'],\n",
       "      dtype='object')"
      ]
     },
     "execution_count": 90,
     "metadata": {},
     "output_type": "execute_result"
    }
   ],
   "source": [
    "speed_data.columns"
   ]
  },
  {
   "cell_type": "code",
   "execution_count": 91,
   "metadata": {},
   "outputs": [
    {
     "name": "stdout",
     "output_type": "stream",
     "text": [
      "32,458,702 >50/10;\n",
      " 2,693,026 <50/10;\n",
      "         0 no data;\n",
      "35,151,728 all pop\n"
     ]
    }
   ],
   "source": [
    "print(\"{:10,.0f} >50/10;\\n{:10,.0f} <50/10;\\n{:10,.0f} no data;\\n{:10,.0f} all pop\".format(\n",
    "*[\n",
    "    (speed_data['Pop2016']*speed_data['Pop_Avail_50_10']/100).sum(),\n",
    "    (speed_data['Pop2016']*(100-speed_data['Pop_Avail_50_10'])/100).sum(),\n",
    "    speed_data[speed_data['Pop_Avail_50_10'].isna()].Pop2016.sum(),\n",
    "    speed_data.Pop2016.sum()\n",
    "]\n",
    ")\n",
    ")"
   ]
  },
  {
   "cell_type": "code",
   "execution_count": 92,
   "metadata": {},
   "outputs": [
    {
     "data": {
      "text/plain": [
       "92.33885173440122"
      ]
     },
     "execution_count": 92,
     "metadata": {},
     "output_type": "execute_result"
    }
   ],
   "source": [
    "32458702/35151728*100"
   ]
  },
  {
   "cell_type": "code",
   "execution_count": 93,
   "metadata": {},
   "outputs": [
    {
     "name": "stdout",
     "output_type": "stream",
     "text": [
      " 4,108,512 >50/10;\n",
      " 2,469,486 <50/10;\n",
      "         0 no data;\n",
      " 6,577,998 all pop\n"
     ]
    }
   ],
   "source": [
    "print(\"{:10,.0f} >50/10;\\n{:10,.0f} <50/10;\\n{:10,.0f} no data;\\n{:10,.0f} all pop\".format(\n",
    "*[\n",
    "    (rural_speed_data['Pop2016']*rural_speed_data['Pop_Avail_50_10']/100.0).sum(),\n",
    "    (rural_speed_data['Pop2016']*(100-rural_speed_data['Pop_Avail_50_10'])/100.0).sum(),\n",
    "    rural_speed_data[rural_speed_data['Pop_Avail_50_10'].isna()].Pop2016.sum(),\n",
    "    rural_speed_data.Pop2016.sum(),\n",
    "]\n",
    ")\n",
    ")"
   ]
  },
  {
   "cell_type": "code",
   "execution_count": 94,
   "metadata": {},
   "outputs": [
    {
     "data": {
      "text/plain": [
       "62.45839539628927"
      ]
     },
     "execution_count": 94,
     "metadata": {},
     "output_type": "execute_result"
    }
   ],
   "source": [
    "4_108_512/6_577_998*100"
   ]
  }
 ],
 "metadata": {
  "kernelspec": {
   "display_name": "Python 3.10.2 ('datascience')",
   "language": "python",
   "name": "python3"
  },
  "language_info": {
   "codemirror_mode": {
    "name": "ipython",
    "version": 3
   },
   "file_extension": ".py",
   "mimetype": "text/x-python",
   "name": "python",
   "nbconvert_exporter": "python",
   "pygments_lexer": "ipython3",
   "version": "3.10.2"
  },
  "orig_nbformat": 4,
  "vscode": {
   "interpreter": {
    "hash": "7baa5682b3ee41d95f3e6c53f6f101854543f295d881c00164f5d254f1692751"
   }
  }
 },
 "nbformat": 4,
 "nbformat_minor": 2
}
