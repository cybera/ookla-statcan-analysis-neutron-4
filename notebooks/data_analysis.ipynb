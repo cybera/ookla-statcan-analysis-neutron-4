{
 "cells": [
  {
   "cell_type": "code",
   "execution_count": 43,
   "id": "611191a8-006c-4bfa-a69c-6e093312fcbe",
   "metadata": {
    "tags": []
   },
   "outputs": [],
   "source": [
    "import src.config"
   ]
  },
  {
   "cell_type": "code",
   "execution_count": 44,
   "id": "a28ae0e3-8c5a-4b43-a598-451023671a9f",
   "metadata": {
    "tags": []
   },
   "outputs": [],
   "source": [
    "from src.datasets.loading import statcan, ookla"
   ]
  },
  {
   "cell_type": "code",
   "execution_count": 45,
   "id": "c4ef04c7-eb67-436f-9402-8e376bbd9f74",
   "metadata": {
    "tags": []
   },
   "outputs": [],
   "source": [
    "import numpy as np \n",
    "import pandas as pd\n",
    "import geopandas as gp"
   ]
  },
  {
   "cell_type": "code",
   "execution_count": 46,
   "id": "40e4ea2c-d285-4876-ac6d-78dc73f5fc90",
   "metadata": {
    "tags": []
   },
   "outputs": [],
   "source": [
    "import matplotlib.pyplot as plt "
   ]
  },
  {
   "cell_type": "code",
   "execution_count": 47,
   "id": "326ca209-90fc-4248-ace7-649bc7685cbb",
   "metadata": {
    "tags": []
   },
   "outputs": [
    {
     "data": {
      "text/html": [
       "<div>\n",
       "<style scoped>\n",
       "    .dataframe tbody tr th:only-of-type {\n",
       "        vertical-align: middle;\n",
       "    }\n",
       "\n",
       "    .dataframe tbody tr th {\n",
       "        vertical-align: top;\n",
       "    }\n",
       "\n",
       "    .dataframe thead th {\n",
       "        text-align: right;\n",
       "    }\n",
       "</style>\n",
       "<table border=\"1\" class=\"dataframe\">\n",
       "  <thead>\n",
       "    <tr style=\"text-align: right;\">\n",
       "      <th></th>\n",
       "      <th></th>\n",
       "      <th></th>\n",
       "      <th>path</th>\n",
       "    </tr>\n",
       "    <tr>\n",
       "      <th>type</th>\n",
       "      <th>year</th>\n",
       "      <th>quarter</th>\n",
       "      <th></th>\n",
       "    </tr>\n",
       "  </thead>\n",
       "  <tbody>\n",
       "    <tr>\n",
       "      <th rowspan=\"17\" valign=\"top\">fixed</th>\n",
       "      <th rowspan=\"4\" valign=\"top\">2019</th>\n",
       "      <th>1</th>\n",
       "      <td>/home/jovyan/data/ookla-canada-tiles/ookla-can...</td>\n",
       "    </tr>\n",
       "    <tr>\n",
       "      <th>2</th>\n",
       "      <td>/home/jovyan/data/ookla-canada-tiles/ookla-can...</td>\n",
       "    </tr>\n",
       "    <tr>\n",
       "      <th>3</th>\n",
       "      <td>/home/jovyan/data/ookla-canada-tiles/ookla-can...</td>\n",
       "    </tr>\n",
       "    <tr>\n",
       "      <th>4</th>\n",
       "      <td>/home/jovyan/data/ookla-canada-tiles/ookla-can...</td>\n",
       "    </tr>\n",
       "    <tr>\n",
       "      <th rowspan=\"4\" valign=\"top\">2020</th>\n",
       "      <th>1</th>\n",
       "      <td>/home/jovyan/data/ookla-canada-tiles/ookla-can...</td>\n",
       "    </tr>\n",
       "    <tr>\n",
       "      <th>2</th>\n",
       "      <td>/home/jovyan/data/ookla-canada-tiles/ookla-can...</td>\n",
       "    </tr>\n",
       "    <tr>\n",
       "      <th>3</th>\n",
       "      <td>/home/jovyan/data/ookla-canada-tiles/ookla-can...</td>\n",
       "    </tr>\n",
       "    <tr>\n",
       "      <th>4</th>\n",
       "      <td>/home/jovyan/data/ookla-canada-tiles/ookla-can...</td>\n",
       "    </tr>\n",
       "    <tr>\n",
       "      <th rowspan=\"4\" valign=\"top\">2021</th>\n",
       "      <th>1</th>\n",
       "      <td>/home/jovyan/data/ookla-canada-tiles/ookla-can...</td>\n",
       "    </tr>\n",
       "    <tr>\n",
       "      <th>2</th>\n",
       "      <td>/home/jovyan/data/ookla-canada-tiles/ookla-can...</td>\n",
       "    </tr>\n",
       "    <tr>\n",
       "      <th>3</th>\n",
       "      <td>/home/jovyan/data/ookla-canada-tiles/ookla-can...</td>\n",
       "    </tr>\n",
       "    <tr>\n",
       "      <th>4</th>\n",
       "      <td>/home/jovyan/data/ookla-canada-tiles/ookla-can...</td>\n",
       "    </tr>\n",
       "    <tr>\n",
       "      <th rowspan=\"4\" valign=\"top\">2022</th>\n",
       "      <th>1</th>\n",
       "      <td>/home/jovyan/data/ookla-canada-tiles/ookla-can...</td>\n",
       "    </tr>\n",
       "    <tr>\n",
       "      <th>2</th>\n",
       "      <td>/home/jovyan/data/ookla-canada-tiles/ookla-can...</td>\n",
       "    </tr>\n",
       "    <tr>\n",
       "      <th>3</th>\n",
       "      <td>/home/jovyan/data/ookla-canada-tiles/ookla-can...</td>\n",
       "    </tr>\n",
       "    <tr>\n",
       "      <th>4</th>\n",
       "      <td>/home/jovyan/data/ookla-canada-tiles/ookla-can...</td>\n",
       "    </tr>\n",
       "    <tr>\n",
       "      <th>2023</th>\n",
       "      <th>1</th>\n",
       "      <td>/home/jovyan/data/ookla-canada-tiles/ookla-can...</td>\n",
       "    </tr>\n",
       "    <tr>\n",
       "      <th rowspan=\"17\" valign=\"top\">mobile</th>\n",
       "      <th rowspan=\"4\" valign=\"top\">2019</th>\n",
       "      <th>1</th>\n",
       "      <td>/home/jovyan/data/ookla-canada-tiles/ookla-can...</td>\n",
       "    </tr>\n",
       "    <tr>\n",
       "      <th>2</th>\n",
       "      <td>/home/jovyan/data/ookla-canada-tiles/ookla-can...</td>\n",
       "    </tr>\n",
       "    <tr>\n",
       "      <th>3</th>\n",
       "      <td>/home/jovyan/data/ookla-canada-tiles/ookla-can...</td>\n",
       "    </tr>\n",
       "    <tr>\n",
       "      <th>4</th>\n",
       "      <td>/home/jovyan/data/ookla-canada-tiles/ookla-can...</td>\n",
       "    </tr>\n",
       "    <tr>\n",
       "      <th rowspan=\"4\" valign=\"top\">2020</th>\n",
       "      <th>1</th>\n",
       "      <td>/home/jovyan/data/ookla-canada-tiles/ookla-can...</td>\n",
       "    </tr>\n",
       "    <tr>\n",
       "      <th>2</th>\n",
       "      <td>/home/jovyan/data/ookla-canada-tiles/ookla-can...</td>\n",
       "    </tr>\n",
       "    <tr>\n",
       "      <th>3</th>\n",
       "      <td>/home/jovyan/data/ookla-canada-tiles/ookla-can...</td>\n",
       "    </tr>\n",
       "    <tr>\n",
       "      <th>4</th>\n",
       "      <td>/home/jovyan/data/ookla-canada-tiles/ookla-can...</td>\n",
       "    </tr>\n",
       "    <tr>\n",
       "      <th rowspan=\"4\" valign=\"top\">2021</th>\n",
       "      <th>1</th>\n",
       "      <td>/home/jovyan/data/ookla-canada-tiles/ookla-can...</td>\n",
       "    </tr>\n",
       "    <tr>\n",
       "      <th>2</th>\n",
       "      <td>/home/jovyan/data/ookla-canada-tiles/ookla-can...</td>\n",
       "    </tr>\n",
       "    <tr>\n",
       "      <th>3</th>\n",
       "      <td>/home/jovyan/data/ookla-canada-tiles/ookla-can...</td>\n",
       "    </tr>\n",
       "    <tr>\n",
       "      <th>4</th>\n",
       "      <td>/home/jovyan/data/ookla-canada-tiles/ookla-can...</td>\n",
       "    </tr>\n",
       "    <tr>\n",
       "      <th rowspan=\"4\" valign=\"top\">2022</th>\n",
       "      <th>1</th>\n",
       "      <td>/home/jovyan/data/ookla-canada-tiles/ookla-can...</td>\n",
       "    </tr>\n",
       "    <tr>\n",
       "      <th>2</th>\n",
       "      <td>/home/jovyan/data/ookla-canada-tiles/ookla-can...</td>\n",
       "    </tr>\n",
       "    <tr>\n",
       "      <th>3</th>\n",
       "      <td>/home/jovyan/data/ookla-canada-tiles/ookla-can...</td>\n",
       "    </tr>\n",
       "    <tr>\n",
       "      <th>4</th>\n",
       "      <td>/home/jovyan/data/ookla-canada-tiles/ookla-can...</td>\n",
       "    </tr>\n",
       "    <tr>\n",
       "      <th>2023</th>\n",
       "      <th>1</th>\n",
       "      <td>/home/jovyan/data/ookla-canada-tiles/ookla-can...</td>\n",
       "    </tr>\n",
       "  </tbody>\n",
       "</table>\n",
       "</div>"
      ],
      "text/plain": [
       "                                                                  path\n",
       "type   year quarter                                                   \n",
       "fixed  2019 1        /home/jovyan/data/ookla-canada-tiles/ookla-can...\n",
       "            2        /home/jovyan/data/ookla-canada-tiles/ookla-can...\n",
       "            3        /home/jovyan/data/ookla-canada-tiles/ookla-can...\n",
       "            4        /home/jovyan/data/ookla-canada-tiles/ookla-can...\n",
       "       2020 1        /home/jovyan/data/ookla-canada-tiles/ookla-can...\n",
       "            2        /home/jovyan/data/ookla-canada-tiles/ookla-can...\n",
       "            3        /home/jovyan/data/ookla-canada-tiles/ookla-can...\n",
       "            4        /home/jovyan/data/ookla-canada-tiles/ookla-can...\n",
       "       2021 1        /home/jovyan/data/ookla-canada-tiles/ookla-can...\n",
       "            2        /home/jovyan/data/ookla-canada-tiles/ookla-can...\n",
       "            3        /home/jovyan/data/ookla-canada-tiles/ookla-can...\n",
       "            4        /home/jovyan/data/ookla-canada-tiles/ookla-can...\n",
       "       2022 1        /home/jovyan/data/ookla-canada-tiles/ookla-can...\n",
       "            2        /home/jovyan/data/ookla-canada-tiles/ookla-can...\n",
       "            3        /home/jovyan/data/ookla-canada-tiles/ookla-can...\n",
       "            4        /home/jovyan/data/ookla-canada-tiles/ookla-can...\n",
       "       2023 1        /home/jovyan/data/ookla-canada-tiles/ookla-can...\n",
       "mobile 2019 1        /home/jovyan/data/ookla-canada-tiles/ookla-can...\n",
       "            2        /home/jovyan/data/ookla-canada-tiles/ookla-can...\n",
       "            3        /home/jovyan/data/ookla-canada-tiles/ookla-can...\n",
       "            4        /home/jovyan/data/ookla-canada-tiles/ookla-can...\n",
       "       2020 1        /home/jovyan/data/ookla-canada-tiles/ookla-can...\n",
       "            2        /home/jovyan/data/ookla-canada-tiles/ookla-can...\n",
       "            3        /home/jovyan/data/ookla-canada-tiles/ookla-can...\n",
       "            4        /home/jovyan/data/ookla-canada-tiles/ookla-can...\n",
       "       2021 1        /home/jovyan/data/ookla-canada-tiles/ookla-can...\n",
       "            2        /home/jovyan/data/ookla-canada-tiles/ookla-can...\n",
       "            3        /home/jovyan/data/ookla-canada-tiles/ookla-can...\n",
       "            4        /home/jovyan/data/ookla-canada-tiles/ookla-can...\n",
       "       2022 1        /home/jovyan/data/ookla-canada-tiles/ookla-can...\n",
       "            2        /home/jovyan/data/ookla-canada-tiles/ookla-can...\n",
       "            3        /home/jovyan/data/ookla-canada-tiles/ookla-can...\n",
       "            4        /home/jovyan/data/ookla-canada-tiles/ookla-can...\n",
       "       2023 1        /home/jovyan/data/ookla-canada-tiles/ookla-can..."
      ]
     },
     "execution_count": 47,
     "metadata": {},
     "output_type": "execute_result"
    }
   ],
   "source": [
    "available_file = ookla.available_files()\n",
    "available_file"
   ]
  },
  {
   "cell_type": "code",
   "execution_count": 7,
   "id": "d33d9a57-359a-4c0b-91bd-5f3217bc25cd",
   "metadata": {
    "tags": []
   },
   "outputs": [],
   "source": [
    "speed_data = ookla.speed_data()"
   ]
  },
  {
   "cell_type": "code",
   "execution_count": 21,
   "id": "ee1ae612-c52b-43dd-870f-3b62122e1152",
   "metadata": {
    "tags": []
   },
   "outputs": [
    {
     "data": {
      "text/plain": [
       "quadkey          avg_d_kbps  avg_u_kbps  avg_lat_ms  tests  devices  conn_type  year  quarter\n",
       "13230212122122   544197      269445      19          1      1        fixed      2022  4          1\n",
       "302303221032211  5561        146         36          1      1        mobile     2021  2          1\n",
       "302303221032210  107866      33210       16          43     15       fixed      2020  2          1\n",
       "                 109871      12326       91          40     11       fixed      2019  3          1\n",
       "                 135340      83441       19          25     13       fixed      2021  1          1\n",
       "                                                                                                ..\n",
       "213123211102303  153080      42031       17          183    43       fixed      2020  3          1\n",
       "                 168428      49893       8           116    35       fixed      2020  4          1\n",
       "                 182649      73198       9           87     34       fixed      2021  1          1\n",
       "                 211577      52295       11          115    39       fixed      2021  2          1\n",
       "303303003200203  5781        565         42          5      2        mobile     2020  4          1\n",
       "Name: count, Length: 3902192, dtype: int64"
      ]
     },
     "execution_count": 21,
     "metadata": {},
     "output_type": "execute_result"
    }
   ],
   "source": [
    "speed_data.value_counts()"
   ]
  },
  {
   "cell_type": "code",
   "execution_count": 8,
   "id": "5ad87c02-ef3f-428c-bdb4-c683d1f7c66d",
   "metadata": {
    "tags": []
   },
   "outputs": [
    {
     "data": {
      "text/plain": [
       "quadkey          avg_d_kbps  avg_u_kbps  avg_lat_ms  tests  devices  conn_type  year  quarter\n",
       "13230212122122   544197      269445      19          1      1        fixed      2022  4          1\n",
       "302303221032211  5561        146         36          1      1        mobile     2021  2          1\n",
       "302303221032210  107866      33210       16          43     15       fixed      2020  2          1\n",
       "                 109871      12326       91          40     11       fixed      2019  3          1\n",
       "                 135340      83441       19          25     13       fixed      2021  1          1\n",
       "                                                                                                ..\n",
       "213123211102303  153080      42031       17          183    43       fixed      2020  3          1\n",
       "                 168428      49893       8           116    35       fixed      2020  4          1\n",
       "                 182649      73198       9           87     34       fixed      2021  1          1\n",
       "                 211577      52295       11          115    39       fixed      2021  2          1\n",
       "303303003200203  5781        565         42          5      2        mobile     2020  4          1\n",
       "Name: count, Length: 3902192, dtype: int64"
      ]
     },
     "execution_count": 8,
     "metadata": {},
     "output_type": "execute_result"
    }
   ],
   "source": [
    "# Data Cleaning\n",
    "speed_data = speed_data.dropna()   # Drop missing values\n",
    "speed_data.value_counts()"
   ]
  },
  {
   "cell_type": "code",
   "execution_count": 34,
   "id": "6cd9a976-a94b-4316-9ce1-e3cbab8ed807",
   "metadata": {
    "tags": []
   },
   "outputs": [
    {
     "data": {
      "text/html": [
       "<div>\n",
       "<style scoped>\n",
       "    .dataframe tbody tr th:only-of-type {\n",
       "        vertical-align: middle;\n",
       "    }\n",
       "\n",
       "    .dataframe tbody tr th {\n",
       "        vertical-align: top;\n",
       "    }\n",
       "\n",
       "    .dataframe thead th {\n",
       "        text-align: right;\n",
       "    }\n",
       "</style>\n",
       "<table border=\"1\" class=\"dataframe\">\n",
       "  <thead>\n",
       "    <tr style=\"text-align: right;\">\n",
       "      <th></th>\n",
       "      <th>quadkey</th>\n",
       "      <th>avg_d_kbps</th>\n",
       "      <th>avg_u_kbps</th>\n",
       "      <th>avg_lat_ms</th>\n",
       "      <th>tests</th>\n",
       "      <th>devices</th>\n",
       "      <th>conn_type</th>\n",
       "      <th>year</th>\n",
       "      <th>quarter</th>\n",
       "      <th>year_quarter</th>\n",
       "    </tr>\n",
       "  </thead>\n",
       "  <tbody>\n",
       "    <tr>\n",
       "      <th>0</th>\n",
       "      <td>302303331012303</td>\n",
       "      <td>130704</td>\n",
       "      <td>26290</td>\n",
       "      <td>11</td>\n",
       "      <td>8</td>\n",
       "      <td>6</td>\n",
       "      <td>fixed</td>\n",
       "      <td>2019</td>\n",
       "      <td>1</td>\n",
       "      <td>2019Q1</td>\n",
       "    </tr>\n",
       "    <tr>\n",
       "      <th>1</th>\n",
       "      <td>212122230130321</td>\n",
       "      <td>100966</td>\n",
       "      <td>55007</td>\n",
       "      <td>8</td>\n",
       "      <td>118</td>\n",
       "      <td>23</td>\n",
       "      <td>fixed</td>\n",
       "      <td>2019</td>\n",
       "      <td>1</td>\n",
       "      <td>2019Q1</td>\n",
       "    </tr>\n",
       "    <tr>\n",
       "      <th>2</th>\n",
       "      <td>212120311013031</td>\n",
       "      <td>890</td>\n",
       "      <td>2432</td>\n",
       "      <td>362</td>\n",
       "      <td>5</td>\n",
       "      <td>2</td>\n",
       "      <td>fixed</td>\n",
       "      <td>2019</td>\n",
       "      <td>1</td>\n",
       "      <td>2019Q1</td>\n",
       "    </tr>\n",
       "    <tr>\n",
       "      <th>3</th>\n",
       "      <td>212102012132221</td>\n",
       "      <td>36347</td>\n",
       "      <td>11509</td>\n",
       "      <td>14</td>\n",
       "      <td>44</td>\n",
       "      <td>1</td>\n",
       "      <td>fixed</td>\n",
       "      <td>2019</td>\n",
       "      <td>1</td>\n",
       "      <td>2019Q1</td>\n",
       "    </tr>\n",
       "    <tr>\n",
       "      <th>4</th>\n",
       "      <td>212122232013120</td>\n",
       "      <td>59481</td>\n",
       "      <td>23797</td>\n",
       "      <td>10</td>\n",
       "      <td>45</td>\n",
       "      <td>13</td>\n",
       "      <td>fixed</td>\n",
       "      <td>2019</td>\n",
       "      <td>1</td>\n",
       "      <td>2019Q1</td>\n",
       "    </tr>\n",
       "  </tbody>\n",
       "</table>\n",
       "</div>"
      ],
      "text/plain": [
       "           quadkey  avg_d_kbps  avg_u_kbps  avg_lat_ms  tests  devices   \n",
       "0  302303331012303      130704       26290          11      8        6  \\\n",
       "1  212122230130321      100966       55007           8    118       23   \n",
       "2  212120311013031         890        2432         362      5        2   \n",
       "3  212102012132221       36347       11509          14     44        1   \n",
       "4  212122232013120       59481       23797          10     45       13   \n",
       "\n",
       "  conn_type  year  quarter year_quarter  \n",
       "0     fixed  2019        1       2019Q1  \n",
       "1     fixed  2019        1       2019Q1  \n",
       "2     fixed  2019        1       2019Q1  \n",
       "3     fixed  2019        1       2019Q1  \n",
       "4     fixed  2019        1       2019Q1  "
      ]
     },
     "execution_count": 34,
     "metadata": {},
     "output_type": "execute_result"
    }
   ],
   "source": [
    "# Converting Year and Quarter columns to datetime object\n",
    "speed_data['year_quarter'] = pd.PeriodIndex(speed_data['year'].astype(str) + 'Q' + speed_data['quarter'].astype(str), freq='Q')\n",
    "\n",
    "speed_data.head(5)"
   ]
  },
  {
   "cell_type": "code",
   "execution_count": 30,
   "id": "a85b3e2b-ce4a-41c2-ae95-9bf1ca1558b1",
   "metadata": {
    "tags": []
   },
   "outputs": [
    {
     "name": "stdout",
     "output_type": "stream",
     "text": [
      "  year_quarter    avg_d_kbps\n",
      "0       2019Q1  63279.676350\n",
      "1       2019Q2  61915.574211\n",
      "2       2019Q3  63288.908556\n",
      "3       2019Q4  69811.765799\n",
      "4       2020Q1  72373.162978\n"
     ]
    }
   ],
   "source": [
    "speed_data_grouped = speed_data.groupby('year_quarter')['avg_d_kbps'].mean().reset_index()\n",
    "print(speed_data_grouped.head())"
   ]
  },
  {
   "cell_type": "code",
   "execution_count": 40,
   "id": "06ffd678-1424-41f8-a959-2a83e6dc6ff0",
   "metadata": {
    "tags": []
   },
   "outputs": [
    {
     "data": {
      "image/png": "[encoded data removed]",
      "text/plain": [
       "<Figure size 1000x600 with 1 Axes>"
      ]
     },
     "metadata": {},
     "output_type": "display_data"
    }
   ],
   "source": [
    "# Data Visualization\n",
    "plt.figure(figsize=(10, 6))\n",
    "plt.plot(speed_data_grouped['year_quarter'].astype(str), speed_data_grouped['avg_d_kbps'])\n",
    "plt.xlabel('Year and Quarter')\n",
    "plt.ylabel('Average Download Speed (kbps)')\n",
    "plt.title('Download Speed Variation within 3 Years')\n",
    "plt.show()"
   ]
  },
  {
   "cell_type": "code",
   "execution_count": null,
   "id": "4cc8d07e-b189-4aff-b864-7e0d0f916358",
   "metadata": {
    "tags": []
   },
   "outputs": [],
   "source": [
    "speed_data_grouped_by_quarter = speed_data.groupby('quarter')['avg_d_kbps'].mean().reset_index()\n",
    "speed_data_grouped_by_quarter"
   ]
  },
  {
   "cell_type": "code",
   "execution_count": 39,
   "id": "586d3c91-7ac2-4f58-aa29-aad13091ccff",
   "metadata": {
    "tags": []
   },
   "outputs": [
    {
     "data": {
      "image/png": "[encoded data removed]",
      "text/plain": [
       "<Figure size 1000x600 with 1 Axes>"
      ]
     },
     "metadata": {},
     "output_type": "display_data"
    }
   ],
   "source": [
    "# Data Visualization\n",
    "plt.figure(figsize=(10, 6))\n",
    "plt.plot(speed_data_grouped_by_quarter['quarter'].astype(str), speed_data_grouped_by_quarter['avg_d_kbps'])\n",
    "plt.xlabel('Year and Quarter')\n",
    "plt.ylabel('Average Download Speed (kbps)')\n",
    "plt.title('Download Speed Variation with Quarter')\n",
    "plt.show()"
   ]
  },
  {
   "cell_type": "code",
   "execution_count": 11,
   "id": "6578b4d8-7901-44a8-a8ed-5adacf9995b0",
   "metadata": {
    "tags": []
   },
   "outputs": [
    {
     "data": {
      "text/html": [
       "<div>\n",
       "<style scoped>\n",
       "    .dataframe tbody tr th:only-of-type {\n",
       "        vertical-align: middle;\n",
       "    }\n",
       "\n",
       "    .dataframe tbody tr th {\n",
       "        vertical-align: top;\n",
       "    }\n",
       "\n",
       "    .dataframe thead th {\n",
       "        text-align: right;\n",
       "    }\n",
       "</style>\n",
       "<table border=\"1\" class=\"dataframe\">\n",
       "  <thead>\n",
       "    <tr style=\"text-align: right;\">\n",
       "      <th></th>\n",
       "      <th>avg_d_kbps</th>\n",
       "      <th>avg_u_kbps</th>\n",
       "      <th>tests</th>\n",
       "      <th>devices</th>\n",
       "      <th>tests_per_device</th>\n",
       "    </tr>\n",
       "  </thead>\n",
       "  <tbody>\n",
       "    <tr>\n",
       "      <th>avg_d_kbps</th>\n",
       "      <td>1.000000</td>\n",
       "      <td>0.631807</td>\n",
       "      <td>0.143686</td>\n",
       "      <td>0.189906</td>\n",
       "      <td>-0.002173</td>\n",
       "    </tr>\n",
       "    <tr>\n",
       "      <th>avg_u_kbps</th>\n",
       "      <td>0.631807</td>\n",
       "      <td>1.000000</td>\n",
       "      <td>0.109965</td>\n",
       "      <td>0.147757</td>\n",
       "      <td>0.001540</td>\n",
       "    </tr>\n",
       "    <tr>\n",
       "      <th>tests</th>\n",
       "      <td>0.143686</td>\n",
       "      <td>0.109965</td>\n",
       "      <td>1.000000</td>\n",
       "      <td>0.735558</td>\n",
       "      <td>0.442158</td>\n",
       "    </tr>\n",
       "    <tr>\n",
       "      <th>devices</th>\n",
       "      <td>0.189906</td>\n",
       "      <td>0.147757</td>\n",
       "      <td>0.735558</td>\n",
       "      <td>1.000000</td>\n",
       "      <td>0.031616</td>\n",
       "    </tr>\n",
       "    <tr>\n",
       "      <th>tests_per_device</th>\n",
       "      <td>-0.002173</td>\n",
       "      <td>0.001540</td>\n",
       "      <td>0.442158</td>\n",
       "      <td>0.031616</td>\n",
       "      <td>1.000000</td>\n",
       "    </tr>\n",
       "  </tbody>\n",
       "</table>\n",
       "</div>"
      ],
      "text/plain": [
       "                  avg_d_kbps  avg_u_kbps     tests   devices  tests_per_device\n",
       "avg_d_kbps          1.000000    0.631807  0.143686  0.189906         -0.002173\n",
       "avg_u_kbps          0.631807    1.000000  0.109965  0.147757          0.001540\n",
       "tests               0.143686    0.109965  1.000000  0.735558          0.442158\n",
       "devices             0.189906    0.147757  0.735558  1.000000          0.031616\n",
       "tests_per_device   -0.002173    0.001540  0.442158  0.031616          1.000000"
      ]
     },
     "execution_count": 11,
     "metadata": {},
     "output_type": "execute_result"
    }
   ],
   "source": [
    "speed_data['tests_per_device']=speed_data['tests']/speed_data['devices']\n",
    "speed_data[['avg_d_kbps','avg_u_kbps','tests','devices','tests_per_device']].corr()"
   ]
  },
  {
   "cell_type": "code",
   "execution_count": 9,
   "id": "3d19e4ce-f337-4d8b-943f-6d069a5bc43c",
   "metadata": {
    "tags": []
   },
   "outputs": [
    {
     "data": {
      "text/plain": [
       "<Figure size 1000x600 with 0 Axes>"
      ]
     },
     "metadata": {},
     "output_type": "display_data"
    },
    {
     "data": {
      "image/png": "[encoded data removed]",
      "text/plain": [
       "<Figure size 640x480 with 1 Axes>"
      ]
     },
     "metadata": {},
     "output_type": "display_data"
    }
   ],
   "source": [
    "speed_data_grouped_by_tests = speed_data.groupby('tests')['avg_d_kbps'].mean().reset_index()\n",
    "# Data Visualization\n",
    "plt.figure(figsize=(10, 6))\n",
    "speed_data.plot(kind='scatter', x='tests', y='avg_d_kbps')\n",
    "plt.xlabel('Test number')\n",
    "plt.ylabel('Average Download Speed (kbps)')\n",
    "plt.title('Relationship between Download Speed and Number of Tests')\n",
    "plt.show()"
   ]
  },
  {
   "cell_type": "code",
   "execution_count": 10,
   "id": "c5cb37b6-a23a-45b6-9ca7-0293b4f393af",
   "metadata": {
    "tags": []
   },
   "outputs": [
    {
     "data": {
      "text/plain": [
       "<Figure size 1000x600 with 0 Axes>"
      ]
     },
     "metadata": {},
     "output_type": "display_data"
    },
    {
     "data": {
      "image/png": "[encoded data removed]",
      "text/plain": [
       "<Figure size 640x480 with 1 Axes>"
      ]
     },
     "metadata": {},
     "output_type": "display_data"
    }
   ],
   "source": [
    "speed_data_grouped_by_tests = speed_data.groupby('devices')['avg_d_kbps'].mean().reset_index()\n",
    "# Data Visualization\n",
    "plt.figure(figsize=(10, 6))\n",
    "speed_data.plot(kind='scatter', x='devices', y='avg_d_kbps')\n",
    "plt.xlabel('Devices number')\n",
    "plt.ylabel('Average Download Speed (kbps)')\n",
    "plt.title('Relationship between Download Speed and Number of Devices')\n",
    "plt.show()"
   ]
  },
  {
   "cell_type": "code",
   "execution_count": 12,
   "id": "dd90b2f2-f3aa-4fa9-9aae-032d3fef2bf4",
   "metadata": {},
   "outputs": [
    {
     "data": {
      "text/plain": [
       "<Figure size 1000x600 with 0 Axes>"
      ]
     },
     "metadata": {},
     "output_type": "display_data"
    },
    {
     "data": {
      "image/png": "[encoded data removed]",
      "text/plain": [
       "<Figure size 640x480 with 1 Axes>"
      ]
     },
     "metadata": {},
     "output_type": "display_data"
    }
   ],
   "source": [
    "\n",
    "# Data Visualization\n",
    "plt.figure(figsize=(10, 6))\n",
    "speed_data.plot(kind='scatter', x='tests_per_device', y='avg_d_kbps')\n",
    "plt.xlabel('tests_per_device')\n",
    "plt.ylabel('Average Download Speed (kbps)')\n",
    "plt.title('Relationship between Download Speed and tests_per_device')\n",
    "plt.show()"
   ]
  },
  {
   "cell_type": "code",
   "execution_count": 33,
   "id": "6349034b-aa68-42ef-a9e4-d5b361e6603f",
   "metadata": {
    "tags": []
   },
   "outputs": [
    {
     "data": {
      "text/html": [
       "<div>\n",
       "<style scoped>\n",
       "    .dataframe tbody tr th:only-of-type {\n",
       "        vertical-align: middle;\n",
       "    }\n",
       "\n",
       "    .dataframe tbody tr th {\n",
       "        vertical-align: top;\n",
       "    }\n",
       "\n",
       "    .dataframe thead th {\n",
       "        text-align: right;\n",
       "    }\n",
       "</style>\n",
       "<table border=\"1\" class=\"dataframe\">\n",
       "  <thead>\n",
       "    <tr style=\"text-align: right;\">\n",
       "      <th></th>\n",
       "      <th>quadkey</th>\n",
       "      <th>geometry</th>\n",
       "      <th>avg_d_kbps</th>\n",
       "      <th>avg_u_kbps</th>\n",
       "      <th>avg_lat_ms</th>\n",
       "      <th>tests</th>\n",
       "      <th>devices</th>\n",
       "      <th>conn_type</th>\n",
       "      <th>year</th>\n",
       "      <th>quarter</th>\n",
       "    </tr>\n",
       "  </thead>\n",
       "  <tbody>\n",
       "    <tr>\n",
       "      <th>0</th>\n",
       "      <td>302303331012303</td>\n",
       "      <td>POLYGON ((-73.36121 45.53329, -73.35571 45.533...</td>\n",
       "      <td>130704</td>\n",
       "      <td>26290</td>\n",
       "      <td>11</td>\n",
       "      <td>8</td>\n",
       "      <td>6</td>\n",
       "      <td>fixed</td>\n",
       "      <td>2019</td>\n",
       "      <td>1</td>\n",
       "    </tr>\n",
       "    <tr>\n",
       "      <th>1</th>\n",
       "      <td>302303331012303</td>\n",
       "      <td>POLYGON ((-73.36121 45.53329, -73.35571 45.533...</td>\n",
       "      <td>155185</td>\n",
       "      <td>35459</td>\n",
       "      <td>12</td>\n",
       "      <td>23</td>\n",
       "      <td>5</td>\n",
       "      <td>fixed</td>\n",
       "      <td>2019</td>\n",
       "      <td>2</td>\n",
       "    </tr>\n",
       "    <tr>\n",
       "      <th>2</th>\n",
       "      <td>302303331012303</td>\n",
       "      <td>POLYGON ((-73.36121 45.53329, -73.35571 45.533...</td>\n",
       "      <td>49799</td>\n",
       "      <td>11468</td>\n",
       "      <td>15</td>\n",
       "      <td>60</td>\n",
       "      <td>12</td>\n",
       "      <td>fixed</td>\n",
       "      <td>2019</td>\n",
       "      <td>3</td>\n",
       "    </tr>\n",
       "    <tr>\n",
       "      <th>3</th>\n",
       "      <td>302303331012303</td>\n",
       "      <td>POLYGON ((-73.36121 45.53329, -73.35571 45.533...</td>\n",
       "      <td>55197</td>\n",
       "      <td>14922</td>\n",
       "      <td>14</td>\n",
       "      <td>27</td>\n",
       "      <td>13</td>\n",
       "      <td>fixed</td>\n",
       "      <td>2019</td>\n",
       "      <td>4</td>\n",
       "    </tr>\n",
       "    <tr>\n",
       "      <th>4</th>\n",
       "      <td>302303331012303</td>\n",
       "      <td>POLYGON ((-73.36121 45.53329, -73.35571 45.533...</td>\n",
       "      <td>73777</td>\n",
       "      <td>12470</td>\n",
       "      <td>14</td>\n",
       "      <td>20</td>\n",
       "      <td>10</td>\n",
       "      <td>fixed</td>\n",
       "      <td>2020</td>\n",
       "      <td>1</td>\n",
       "    </tr>\n",
       "    <tr>\n",
       "      <th>...</th>\n",
       "      <td>...</td>\n",
       "      <td>...</td>\n",
       "      <td>...</td>\n",
       "      <td>...</td>\n",
       "      <td>...</td>\n",
       "      <td>...</td>\n",
       "      <td>...</td>\n",
       "      <td>...</td>\n",
       "      <td>...</td>\n",
       "      <td>...</td>\n",
       "    </tr>\n",
       "    <tr>\n",
       "      <th>3902187</th>\n",
       "      <td>303301212220132</td>\n",
       "      <td>POLYGON ((-52.70142 47.56541, -52.69592 47.565...</td>\n",
       "      <td>162419</td>\n",
       "      <td>16678</td>\n",
       "      <td>52</td>\n",
       "      <td>1</td>\n",
       "      <td>1</td>\n",
       "      <td>mobile</td>\n",
       "      <td>2023</td>\n",
       "      <td>1</td>\n",
       "    </tr>\n",
       "    <tr>\n",
       "      <th>3902188</th>\n",
       "      <td>303301221030232</td>\n",
       "      <td>POLYGON ((-52.98706 47.43180, -52.98157 47.431...</td>\n",
       "      <td>124113</td>\n",
       "      <td>22752</td>\n",
       "      <td>62</td>\n",
       "      <td>1</td>\n",
       "      <td>1</td>\n",
       "      <td>mobile</td>\n",
       "      <td>2023</td>\n",
       "      <td>1</td>\n",
       "    </tr>\n",
       "    <tr>\n",
       "      <th>3902189</th>\n",
       "      <td>303301221032001</td>\n",
       "      <td>POLYGON ((-52.99255 47.42809, -52.98706 47.428...</td>\n",
       "      <td>250184</td>\n",
       "      <td>71188</td>\n",
       "      <td>48</td>\n",
       "      <td>1</td>\n",
       "      <td>1</td>\n",
       "      <td>mobile</td>\n",
       "      <td>2023</td>\n",
       "      <td>1</td>\n",
       "    </tr>\n",
       "    <tr>\n",
       "      <th>3902190</th>\n",
       "      <td>303302011000033</td>\n",
       "      <td>POLYGON ((-55.17883 47.02895, -55.17334 47.028...</td>\n",
       "      <td>26804</td>\n",
       "      <td>11707</td>\n",
       "      <td>38</td>\n",
       "      <td>5</td>\n",
       "      <td>2</td>\n",
       "      <td>mobile</td>\n",
       "      <td>2023</td>\n",
       "      <td>1</td>\n",
       "    </tr>\n",
       "    <tr>\n",
       "      <th>3902191</th>\n",
       "      <td>303303002021110</td>\n",
       "      <td>POLYGON ((-53.36060 46.73986, -53.35510 46.739...</td>\n",
       "      <td>1914</td>\n",
       "      <td>1164</td>\n",
       "      <td>52</td>\n",
       "      <td>1</td>\n",
       "      <td>1</td>\n",
       "      <td>mobile</td>\n",
       "      <td>2023</td>\n",
       "      <td>1</td>\n",
       "    </tr>\n",
       "  </tbody>\n",
       "</table>\n",
       "<p>3902192 rows × 10 columns</p>\n",
       "</div>"
      ],
      "text/plain": [
       "                 quadkey                                           geometry   \n",
       "0        302303331012303  POLYGON ((-73.36121 45.53329, -73.35571 45.533...  \\\n",
       "1        302303331012303  POLYGON ((-73.36121 45.53329, -73.35571 45.533...   \n",
       "2        302303331012303  POLYGON ((-73.36121 45.53329, -73.35571 45.533...   \n",
       "3        302303331012303  POLYGON ((-73.36121 45.53329, -73.35571 45.533...   \n",
       "4        302303331012303  POLYGON ((-73.36121 45.53329, -73.35571 45.533...   \n",
       "...                  ...                                                ...   \n",
       "3902187  303301212220132  POLYGON ((-52.70142 47.56541, -52.69592 47.565...   \n",
       "3902188  303301221030232  POLYGON ((-52.98706 47.43180, -52.98157 47.431...   \n",
       "3902189  303301221032001  POLYGON ((-52.99255 47.42809, -52.98706 47.428...   \n",
       "3902190  303302011000033  POLYGON ((-55.17883 47.02895, -55.17334 47.028...   \n",
       "3902191  303303002021110  POLYGON ((-53.36060 46.73986, -53.35510 46.739...   \n",
       "\n",
       "         avg_d_kbps  avg_u_kbps  avg_lat_ms  tests  devices conn_type  year   \n",
       "0            130704       26290          11      8        6     fixed  2019  \\\n",
       "1            155185       35459          12     23        5     fixed  2019   \n",
       "2             49799       11468          15     60       12     fixed  2019   \n",
       "3             55197       14922          14     27       13     fixed  2019   \n",
       "4             73777       12470          14     20       10     fixed  2020   \n",
       "...             ...         ...         ...    ...      ...       ...   ...   \n",
       "3902187      162419       16678          52      1        1    mobile  2023   \n",
       "3902188      124113       22752          62      1        1    mobile  2023   \n",
       "3902189      250184       71188          48      1        1    mobile  2023   \n",
       "3902190       26804       11707          38      5        2    mobile  2023   \n",
       "3902191        1914        1164          52      1        1    mobile  2023   \n",
       "\n",
       "         quarter  \n",
       "0              1  \n",
       "1              2  \n",
       "2              3  \n",
       "3              4  \n",
       "4              1  \n",
       "...          ...  \n",
       "3902187        1  \n",
       "3902188        1  \n",
       "3902189        1  \n",
       "3902190        1  \n",
       "3902191        1  \n",
       "\n",
       "[3902192 rows x 10 columns]"
      ]
     },
     "execution_count": 33,
     "metadata": {},
     "output_type": "execute_result"
    }
   ],
   "source": [
    "canada_speed_tiles = ookla.canada_speed_tiles()\n",
    "canada_speed_tiles"
   ]
  },
  {
   "cell_type": "code",
   "execution_count": 8,
   "id": "6e6aa921-2c67-4df3-86da-b0d9484675e4",
   "metadata": {
    "tags": []
   },
   "outputs": [],
   "source": [
    "popctrs = statcan.boundary('population_centres')"
   ]
  },
  {
   "cell_type": "code",
   "execution_count": 34,
   "id": "0889ef9e-aed2-4899-8978-f15a1256fee2",
   "metadata": {
    "tags": []
   },
   "outputs": [
    {
     "data": {
      "text/html": [
       "<div>\n",
       "<style scoped>\n",
       "    .dataframe tbody tr th:only-of-type {\n",
       "        vertical-align: middle;\n",
       "    }\n",
       "\n",
       "    .dataframe tbody tr th {\n",
       "        vertical-align: top;\n",
       "    }\n",
       "\n",
       "    .dataframe thead th {\n",
       "        text-align: right;\n",
       "    }\n",
       "</style>\n",
       "<table border=\"1\" class=\"dataframe\">\n",
       "  <thead>\n",
       "    <tr style=\"text-align: right;\">\n",
       "      <th></th>\n",
       "      <th>PCUID</th>\n",
       "      <th>PCNAME</th>\n",
       "      <th>PCTYPE</th>\n",
       "      <th>PCPUID</th>\n",
       "      <th>PCCLASS</th>\n",
       "      <th>PRUID</th>\n",
       "      <th>PRNAME</th>\n",
       "      <th>CMAUID</th>\n",
       "      <th>CMANAME</th>\n",
       "      <th>CMATYPE</th>\n",
       "      <th>CMAPUID</th>\n",
       "      <th>geometry</th>\n",
       "    </tr>\n",
       "  </thead>\n",
       "  <tbody>\n",
       "    <tr>\n",
       "      <th>0</th>\n",
       "      <td>0300</td>\n",
       "      <td>Fortune</td>\n",
       "      <td>4</td>\n",
       "      <td>100300</td>\n",
       "      <td>2</td>\n",
       "      <td>10</td>\n",
       "      <td>Newfoundland and Labrador / Terre-Neuve-et-Lab...</td>\n",
       "      <td>NaN</td>\n",
       "      <td>NaN</td>\n",
       "      <td>NaN</td>\n",
       "      <td>NaN</td>\n",
       "      <td>POLYGON ((8814306.340 1975116.377, 8814294.583...</td>\n",
       "    </tr>\n",
       "    <tr>\n",
       "      <th>1</th>\n",
       "      <td>0311</td>\n",
       "      <td>Gander</td>\n",
       "      <td>1</td>\n",
       "      <td>100311</td>\n",
       "      <td>2</td>\n",
       "      <td>10</td>\n",
       "      <td>Newfoundland and Labrador / Terre-Neuve-et-Lab...</td>\n",
       "      <td>011</td>\n",
       "      <td>Gander</td>\n",
       "      <td>D</td>\n",
       "      <td>10011</td>\n",
       "      <td>POLYGON ((8774241.249 2203304.440, 8774340.869...</td>\n",
       "    </tr>\n",
       "    <tr>\n",
       "      <th>2</th>\n",
       "      <td>0329</td>\n",
       "      <td>Grand Bank</td>\n",
       "      <td>4</td>\n",
       "      <td>100329</td>\n",
       "      <td>2</td>\n",
       "      <td>10</td>\n",
       "      <td>Newfoundland and Labrador / Terre-Neuve-et-Lab...</td>\n",
       "      <td>NaN</td>\n",
       "      <td>NaN</td>\n",
       "      <td>NaN</td>\n",
       "      <td>NaN</td>\n",
       "      <td>POLYGON ((8817881.080 1980819.671, 8817890.063...</td>\n",
       "    </tr>\n",
       "    <tr>\n",
       "      <th>3</th>\n",
       "      <td>0332</td>\n",
       "      <td>Grand Falls-Windsor</td>\n",
       "      <td>1</td>\n",
       "      <td>100332</td>\n",
       "      <td>2</td>\n",
       "      <td>10</td>\n",
       "      <td>Newfoundland and Labrador / Terre-Neuve-et-Lab...</td>\n",
       "      <td>010</td>\n",
       "      <td>Grand Falls-Windsor</td>\n",
       "      <td>D</td>\n",
       "      <td>10010</td>\n",
       "      <td>POLYGON ((8713608.417 2159194.443, 8713536.711...</td>\n",
       "    </tr>\n",
       "    <tr>\n",
       "      <th>4</th>\n",
       "      <td>0994</td>\n",
       "      <td>Wabana</td>\n",
       "      <td>4</td>\n",
       "      <td>100994</td>\n",
       "      <td>2</td>\n",
       "      <td>10</td>\n",
       "      <td>Newfoundland and Labrador / Terre-Neuve-et-Lab...</td>\n",
       "      <td>NaN</td>\n",
       "      <td>NaN</td>\n",
       "      <td>NaN</td>\n",
       "      <td>NaN</td>\n",
       "      <td>POLYGON ((8960434.160 2150870.983, 8960420.171...</td>\n",
       "    </tr>\n",
       "    <tr>\n",
       "      <th>...</th>\n",
       "      <td>...</td>\n",
       "      <td>...</td>\n",
       "      <td>...</td>\n",
       "      <td>...</td>\n",
       "      <td>...</td>\n",
       "      <td>...</td>\n",
       "      <td>...</td>\n",
       "      <td>...</td>\n",
       "      <td>...</td>\n",
       "      <td>...</td>\n",
       "      <td>...</td>\n",
       "      <td>...</td>\n",
       "    </tr>\n",
       "    <tr>\n",
       "      <th>1005</th>\n",
       "      <td>1392</td>\n",
       "      <td>Cambridge Bay</td>\n",
       "      <td>4</td>\n",
       "      <td>621392</td>\n",
       "      <td>2</td>\n",
       "      <td>62</td>\n",
       "      <td>Nunavut</td>\n",
       "      <td>NaN</td>\n",
       "      <td>NaN</td>\n",
       "      <td>NaN</td>\n",
       "      <td>NaN</td>\n",
       "      <td>POLYGON ((5693087.300 3673041.714, 5693078.646...</td>\n",
       "    </tr>\n",
       "    <tr>\n",
       "      <th>1006</th>\n",
       "      <td>1393</td>\n",
       "      <td>Arviat</td>\n",
       "      <td>4</td>\n",
       "      <td>621393</td>\n",
       "      <td>2</td>\n",
       "      <td>62</td>\n",
       "      <td>Nunavut</td>\n",
       "      <td>NaN</td>\n",
       "      <td>NaN</td>\n",
       "      <td>NaN</td>\n",
       "      <td>NaN</td>\n",
       "      <td>POLYGON ((6086430.914 2754980.477, 6086670.566...</td>\n",
       "    </tr>\n",
       "    <tr>\n",
       "      <th>1007</th>\n",
       "      <td>1439</td>\n",
       "      <td>Baker Lake</td>\n",
       "      <td>4</td>\n",
       "      <td>621439</td>\n",
       "      <td>2</td>\n",
       "      <td>62</td>\n",
       "      <td>Nunavut</td>\n",
       "      <td>NaN</td>\n",
       "      <td>NaN</td>\n",
       "      <td>NaN</td>\n",
       "      <td>NaN</td>\n",
       "      <td>POLYGON ((6005638.106 3107769.754, 6005661.523...</td>\n",
       "    </tr>\n",
       "    <tr>\n",
       "      <th>1008</th>\n",
       "      <td>1440</td>\n",
       "      <td>Kugluktuk</td>\n",
       "      <td>4</td>\n",
       "      <td>621440</td>\n",
       "      <td>2</td>\n",
       "      <td>62</td>\n",
       "      <td>Nunavut</td>\n",
       "      <td>NaN</td>\n",
       "      <td>NaN</td>\n",
       "      <td>NaN</td>\n",
       "      <td>NaN</td>\n",
       "      <td>POLYGON ((5270072.754 3651463.446, 5270060.754...</td>\n",
       "    </tr>\n",
       "    <tr>\n",
       "      <th>1009</th>\n",
       "      <td>1573</td>\n",
       "      <td>Gjoa Haven</td>\n",
       "      <td>4</td>\n",
       "      <td>621573</td>\n",
       "      <td>2</td>\n",
       "      <td>62</td>\n",
       "      <td>Nunavut</td>\n",
       "      <td>NaN</td>\n",
       "      <td>NaN</td>\n",
       "      <td>NaN</td>\n",
       "      <td>NaN</td>\n",
       "      <td>POLYGON ((6041863.103 3571547.660, 6041839.706...</td>\n",
       "    </tr>\n",
       "  </tbody>\n",
       "</table>\n",
       "<p>1010 rows × 12 columns</p>\n",
       "</div>"
      ],
      "text/plain": [
       "     PCUID               PCNAME PCTYPE  PCPUID PCCLASS PRUID   \n",
       "0     0300              Fortune      4  100300       2    10  \\\n",
       "1     0311               Gander      1  100311       2    10   \n",
       "2     0329           Grand Bank      4  100329       2    10   \n",
       "3     0332  Grand Falls-Windsor      1  100332       2    10   \n",
       "4     0994               Wabana      4  100994       2    10   \n",
       "...    ...                  ...    ...     ...     ...   ...   \n",
       "1005  1392        Cambridge Bay      4  621392       2    62   \n",
       "1006  1393               Arviat      4  621393       2    62   \n",
       "1007  1439           Baker Lake      4  621439       2    62   \n",
       "1008  1440            Kugluktuk      4  621440       2    62   \n",
       "1009  1573           Gjoa Haven      4  621573       2    62   \n",
       "\n",
       "                                                 PRNAME CMAUID   \n",
       "0     Newfoundland and Labrador / Terre-Neuve-et-Lab...    NaN  \\\n",
       "1     Newfoundland and Labrador / Terre-Neuve-et-Lab...    011   \n",
       "2     Newfoundland and Labrador / Terre-Neuve-et-Lab...    NaN   \n",
       "3     Newfoundland and Labrador / Terre-Neuve-et-Lab...    010   \n",
       "4     Newfoundland and Labrador / Terre-Neuve-et-Lab...    NaN   \n",
       "...                                                 ...    ...   \n",
       "1005                                            Nunavut    NaN   \n",
       "1006                                            Nunavut    NaN   \n",
       "1007                                            Nunavut    NaN   \n",
       "1008                                            Nunavut    NaN   \n",
       "1009                                            Nunavut    NaN   \n",
       "\n",
       "                  CMANAME CMATYPE CMAPUID   \n",
       "0                     NaN     NaN     NaN  \\\n",
       "1                  Gander       D   10011   \n",
       "2                     NaN     NaN     NaN   \n",
       "3     Grand Falls-Windsor       D   10010   \n",
       "4                     NaN     NaN     NaN   \n",
       "...                   ...     ...     ...   \n",
       "1005                  NaN     NaN     NaN   \n",
       "1006                  NaN     NaN     NaN   \n",
       "1007                  NaN     NaN     NaN   \n",
       "1008                  NaN     NaN     NaN   \n",
       "1009                  NaN     NaN     NaN   \n",
       "\n",
       "                                               geometry  \n",
       "0     POLYGON ((8814306.340 1975116.377, 8814294.583...  \n",
       "1     POLYGON ((8774241.249 2203304.440, 8774340.869...  \n",
       "2     POLYGON ((8817881.080 1980819.671, 8817890.063...  \n",
       "3     POLYGON ((8713608.417 2159194.443, 8713536.711...  \n",
       "4     POLYGON ((8960434.160 2150870.983, 8960420.171...  \n",
       "...                                                 ...  \n",
       "1005  POLYGON ((5693087.300 3673041.714, 5693078.646...  \n",
       "1006  POLYGON ((6086430.914 2754980.477, 6086670.566...  \n",
       "1007  POLYGON ((6005638.106 3107769.754, 6005661.523...  \n",
       "1008  POLYGON ((5270072.754 3651463.446, 5270060.754...  \n",
       "1009  POLYGON ((6041863.103 3571547.660, 6041839.706...  \n",
       "\n",
       "[1010 rows x 12 columns]"
      ]
     },
     "execution_count": 34,
     "metadata": {},
     "output_type": "execute_result"
    }
   ],
   "source": [
    "popctrs"
   ]
  },
  {
   "cell_type": "code",
   "execution_count": 14,
   "id": "6e342e73-d283-4f6f-bc72-27653dda61be",
   "metadata": {
    "tags": []
   },
   "outputs": [],
   "source": [
    "phh_csv_data = statcan.phh_csv_data()"
   ]
  },
  {
   "cell_type": "code",
   "execution_count": 15,
   "id": "b064bce0-05ba-4a41-938f-411e48edb931",
   "metadata": {
    "tags": []
   },
   "outputs": [
    {
     "data": {
      "text/html": [
       "<div>\n",
       "<style scoped>\n",
       "    .dataframe tbody tr th:only-of-type {\n",
       "        vertical-align: middle;\n",
       "    }\n",
       "\n",
       "    .dataframe tbody tr th {\n",
       "        vertical-align: top;\n",
       "    }\n",
       "\n",
       "    .dataframe thead th {\n",
       "        text-align: right;\n",
       "    }\n",
       "</style>\n",
       "<table border=\"1\" class=\"dataframe\">\n",
       "  <thead>\n",
       "    <tr style=\"text-align: right;\">\n",
       "      <th></th>\n",
       "      <th>PHH_ID</th>\n",
       "      <th>Type</th>\n",
       "      <th>Pop2016</th>\n",
       "      <th>TDwell2016_TLog2016</th>\n",
       "      <th>URDwell2016_RH2016</th>\n",
       "      <th>DBUID_Ididu</th>\n",
       "      <th>HEXUID_IdUHEX</th>\n",
       "      <th>Pruid_Pridu</th>\n",
       "      <th>Latitude</th>\n",
       "      <th>Longitude</th>\n",
       "    </tr>\n",
       "  </thead>\n",
       "  <tbody>\n",
       "    <tr>\n",
       "      <th>0</th>\n",
       "      <td>5478817</td>\n",
       "      <td>5</td>\n",
       "      <td>12.000000</td>\n",
       "      <td>5.800000</td>\n",
       "      <td>4.000000</td>\n",
       "      <td>62050022011</td>\n",
       "      <td>NU64320960</td>\n",
       "      <td>62</td>\n",
       "      <td>64.319989</td>\n",
       "      <td>-96.015926</td>\n",
       "    </tr>\n",
       "    <tr>\n",
       "      <th>1</th>\n",
       "      <td>5479265</td>\n",
       "      <td>6</td>\n",
       "      <td>14.750000</td>\n",
       "      <td>4.000000</td>\n",
       "      <td>3.250000</td>\n",
       "      <td>62050024004</td>\n",
       "      <td>NU64320960</td>\n",
       "      <td>62</td>\n",
       "      <td>64.319741</td>\n",
       "      <td>-96.016213</td>\n",
       "    </tr>\n",
       "    <tr>\n",
       "      <th>2</th>\n",
       "      <td>5480341</td>\n",
       "      <td>5</td>\n",
       "      <td>0.909091</td>\n",
       "      <td>0.272727</td>\n",
       "      <td>0.272727</td>\n",
       "      <td>62080027012</td>\n",
       "      <td>NU68650959</td>\n",
       "      <td>62</td>\n",
       "      <td>68.625846</td>\n",
       "      <td>-95.876734</td>\n",
       "    </tr>\n",
       "    <tr>\n",
       "      <th>3</th>\n",
       "      <td>5480380</td>\n",
       "      <td>6</td>\n",
       "      <td>2.636364</td>\n",
       "      <td>0.454545</td>\n",
       "      <td>0.454545</td>\n",
       "      <td>62080027018</td>\n",
       "      <td>NU68650959</td>\n",
       "      <td>62</td>\n",
       "      <td>68.625570</td>\n",
       "      <td>-95.876786</td>\n",
       "    </tr>\n",
       "    <tr>\n",
       "      <th>4</th>\n",
       "      <td>5478363</td>\n",
       "      <td>5</td>\n",
       "      <td>3.400000</td>\n",
       "      <td>0.600000</td>\n",
       "      <td>0.600000</td>\n",
       "      <td>62050017004</td>\n",
       "      <td>NU62190926</td>\n",
       "      <td>62</td>\n",
       "      <td>62.173519</td>\n",
       "      <td>-92.583721</td>\n",
       "    </tr>\n",
       "    <tr>\n",
       "      <th>...</th>\n",
       "      <td>...</td>\n",
       "      <td>...</td>\n",
       "      <td>...</td>\n",
       "      <td>...</td>\n",
       "      <td>...</td>\n",
       "      <td>...</td>\n",
       "      <td>...</td>\n",
       "      <td>...</td>\n",
       "      <td>...</td>\n",
       "      <td>...</td>\n",
       "    </tr>\n",
       "    <tr>\n",
       "      <th>5638120</th>\n",
       "      <td>5501123</td>\n",
       "      <td>2</td>\n",
       "      <td>0.034404</td>\n",
       "      <td>0.162844</td>\n",
       "      <td>0.016055</td>\n",
       "      <td>47180260045</td>\n",
       "      <td>SK54021046</td>\n",
       "      <td>47</td>\n",
       "      <td>54.029665</td>\n",
       "      <td>-104.616411</td>\n",
       "    </tr>\n",
       "    <tr>\n",
       "      <th>5638121</th>\n",
       "      <td>5501124</td>\n",
       "      <td>2</td>\n",
       "      <td>0.306122</td>\n",
       "      <td>0.142857</td>\n",
       "      <td>0.142857</td>\n",
       "      <td>47180260076</td>\n",
       "      <td>SK54881028</td>\n",
       "      <td>47</td>\n",
       "      <td>54.891821</td>\n",
       "      <td>-102.820750</td>\n",
       "    </tr>\n",
       "    <tr>\n",
       "      <th>5638122</th>\n",
       "      <td>5501125</td>\n",
       "      <td>2</td>\n",
       "      <td>10.000000</td>\n",
       "      <td>16.000000</td>\n",
       "      <td>6.000000</td>\n",
       "      <td>47180260031</td>\n",
       "      <td>SK54851021</td>\n",
       "      <td>47</td>\n",
       "      <td>54.879415</td>\n",
       "      <td>-102.145630</td>\n",
       "    </tr>\n",
       "    <tr>\n",
       "      <th>5638123</th>\n",
       "      <td>5501126</td>\n",
       "      <td>2</td>\n",
       "      <td>0.409836</td>\n",
       "      <td>1.114754</td>\n",
       "      <td>0.213115</td>\n",
       "      <td>47180260064</td>\n",
       "      <td>SK54041051</td>\n",
       "      <td>47</td>\n",
       "      <td>54.025036</td>\n",
       "      <td>-105.122773</td>\n",
       "    </tr>\n",
       "    <tr>\n",
       "      <th>5638124</th>\n",
       "      <td>5501151</td>\n",
       "      <td>2</td>\n",
       "      <td>0.405405</td>\n",
       "      <td>1.459459</td>\n",
       "      <td>0.162162</td>\n",
       "      <td>47170157040</td>\n",
       "      <td>SK54561085</td>\n",
       "      <td>47</td>\n",
       "      <td>54.534156</td>\n",
       "      <td>-108.532969</td>\n",
       "    </tr>\n",
       "  </tbody>\n",
       "</table>\n",
       "<p>5638125 rows × 10 columns</p>\n",
       "</div>"
      ],
      "text/plain": [
       "          PHH_ID  Type    Pop2016  TDwell2016_TLog2016  URDwell2016_RH2016   \n",
       "0        5478817     5  12.000000             5.800000            4.000000  \\\n",
       "1        5479265     6  14.750000             4.000000            3.250000   \n",
       "2        5480341     5   0.909091             0.272727            0.272727   \n",
       "3        5480380     6   2.636364             0.454545            0.454545   \n",
       "4        5478363     5   3.400000             0.600000            0.600000   \n",
       "...          ...   ...        ...                  ...                 ...   \n",
       "5638120  5501123     2   0.034404             0.162844            0.016055   \n",
       "5638121  5501124     2   0.306122             0.142857            0.142857   \n",
       "5638122  5501125     2  10.000000            16.000000            6.000000   \n",
       "5638123  5501126     2   0.409836             1.114754            0.213115   \n",
       "5638124  5501151     2   0.405405             1.459459            0.162162   \n",
       "\n",
       "         DBUID_Ididu HEXUID_IdUHEX  Pruid_Pridu   Latitude   Longitude  \n",
       "0        62050022011    NU64320960           62  64.319989  -96.015926  \n",
       "1        62050024004    NU64320960           62  64.319741  -96.016213  \n",
       "2        62080027012    NU68650959           62  68.625846  -95.876734  \n",
       "3        62080027018    NU68650959           62  68.625570  -95.876786  \n",
       "4        62050017004    NU62190926           62  62.173519  -92.583721  \n",
       "...              ...           ...          ...        ...         ...  \n",
       "5638120  47180260045    SK54021046           47  54.029665 -104.616411  \n",
       "5638121  47180260076    SK54881028           47  54.891821 -102.820750  \n",
       "5638122  47180260031    SK54851021           47  54.879415 -102.145630  \n",
       "5638123  47180260064    SK54041051           47  54.025036 -105.122773  \n",
       "5638124  47170157040    SK54561085           47  54.534156 -108.532969  \n",
       "\n",
       "[5638125 rows x 10 columns]"
      ]
     },
     "execution_count": 15,
     "metadata": {},
     "output_type": "execute_result"
    }
   ],
   "source": [
    "phh_csv_data"
   ]
  },
  {
   "cell_type": "code",
   "execution_count": 48,
   "id": "2347394e-f112-487e-a937-9ad62c3c13c8",
   "metadata": {
    "tags": []
   },
   "outputs": [],
   "source": [
    "from pathlib import Path"
   ]
  },
  {
   "cell_type": "code",
   "execution_count": 49,
   "id": "0d8903c7-2520-4d20-a8c8-63b00f019eea",
   "metadata": {
    "tags": []
   },
   "outputs": [],
   "source": [
    "output_name = \"LastFourQuartersOrBestEstimate_On_DissolvedSmallerCitiesHexes\"\n",
    "output_dir = src.config.DATA_DIRECTORY / \"processed\" / \"statistical_geometries\"\n",
    "output_dir.mkdir(exist_ok=True)"
   ]
  },
  {
   "cell_type": "code",
   "execution_count": 50,
   "id": "a6c4caf3-d47b-44bd-bf56-8b36511aad33",
   "metadata": {
    "tags": []
   },
   "outputs": [],
   "source": [
    "popctrs = statcan.boundary('population_centres')"
   ]
  },
  {
   "cell_type": "code",
   "execution_count": 51,
   "id": "18a57b3f-66eb-4dcb-b780-4fdcab407688",
   "metadata": {
    "tags": []
   },
   "outputs": [],
   "source": [
    "derived_geometry = (Path(src.config.DATA_DIRECTORY) / 'processed' / 'geometries').resolve()\n",
    "\n",
    "speed_data = gp.read_file(derived_geometry / 'hexagons_w_dissolved_smaller_popctrs.geojson')#, driver='GeoJSON')\n",
    "#speed_data = speed_data.to_crs(CRS)\n",
    "# speed_data.crs = popctrs.crs #assign crs b/c geojson assumes GPS/epsg:4326\n",
    "speed_data = speed_data.dropna(subset=['HEXUID_PCPUID'])"
   ]
  },
  {
   "cell_type": "code",
   "execution_count": 52,
   "id": "a15a06ef-6334-4301-8a4a-377fbb574526",
   "metadata": {
    "tags": []
   },
   "outputs": [
    {
     "data": {
      "text/plain": [
       "Index(['PCPUID', 'pc_area', 'hex_area', 'hex_frac', 'pc_frac', 'HEXUID_PCPUID',\n",
       "       'PRCODE', 'PCNAME', 'PCCLASS', 'Pop2016', 'TDwell2016_TLog2016',\n",
       "       'URDwell2016_RH2016', 'PHH_Count', 'Common_Type',\n",
       "       'Pop2016_at_50_10_Combined', 'TDwell2016_at_50_10_Combined',\n",
       "       'URDwell_at_50_10_Combined', 'Pop_Avail_50_10', 'TDwell_Avail_50_10',\n",
       "       'URDwell_Avail_50_10', 'geometry'],\n",
       "      dtype='object')"
      ]
     },
     "execution_count": 52,
     "metadata": {},
     "output_type": "execute_result"
    }
   ],
   "source": [
    "speed_data.columns"
   ]
  },
  {
   "cell_type": "code",
   "execution_count": 53,
   "id": "ea17ebb7-a287-4f6a-9267-319d091421e8",
   "metadata": {},
   "outputs": [],
   "source": [
    "CRS = 'EPSG:4326'\n",
    "tiles = ookla.canada_speed_tiles()#.loc[lambda s:(s.year==2022 ) & (s.conn_type=='fixed')]\n",
    "tiles = tiles.to_crs(CRS)"
   ]
  },
  {
   "cell_type": "code",
   "execution_count": 54,
   "id": "f67f0812-8fc4-4de5-ada1-b1b86fe4cd68",
   "metadata": {
    "tags": []
   },
   "outputs": [
    {
     "data": {
      "text/plain": [
       "Index(['quadkey', 'geometry', 'avg_d_kbps', 'avg_u_kbps', 'avg_lat_ms',\n",
       "       'tests', 'devices', 'conn_type', 'year', 'quarter'],\n",
       "      dtype='object')"
      ]
     },
     "execution_count": 54,
     "metadata": {},
     "output_type": "execute_result"
    }
   ],
   "source": [
    "tiles.columns"
   ]
  },
  {
   "cell_type": "code",
   "execution_count": 55,
   "id": "8391d054-859a-46b0-aacd-94792903af6f",
   "metadata": {
    "tags": []
   },
   "outputs": [],
   "source": [
    "# unique_tiles = tiles[['quadkey','geometry']].drop_duplicates()\n",
    "unique_tiles = tiles.drop_duplicates()\n",
    "unique_tiles = unique_tiles.sjoin(speed_data.to_crs(tiles.crs))\n",
    "unique_tiles = unique_tiles.drop(['index_right'],axis=1)"
   ]
  },
  {
   "cell_type": "code",
   "execution_count": 56,
   "id": "9566ab02-8e25-4a39-91a2-2b45f7fc1278",
   "metadata": {
    "tags": []
   },
   "outputs": [
    {
     "data": {
      "text/plain": [
       "Index(['quadkey', 'geometry', 'avg_d_kbps', 'avg_u_kbps', 'avg_lat_ms',\n",
       "       'tests', 'devices', 'conn_type', 'year', 'quarter', 'PCPUID', 'pc_area',\n",
       "       'hex_area', 'hex_frac', 'pc_frac', 'HEXUID_PCPUID', 'PRCODE', 'PCNAME',\n",
       "       'PCCLASS', 'Pop2016', 'TDwell2016_TLog2016', 'URDwell2016_RH2016',\n",
       "       'PHH_Count', 'Common_Type', 'Pop2016_at_50_10_Combined',\n",
       "       'TDwell2016_at_50_10_Combined', 'URDwell_at_50_10_Combined',\n",
       "       'Pop_Avail_50_10', 'TDwell_Avail_50_10', 'URDwell_Avail_50_10'],\n",
       "      dtype='object')"
      ]
     },
     "execution_count": 56,
     "metadata": {},
     "output_type": "execute_result"
    }
   ],
   "source": [
    "unique_tiles.columns"
   ]
  },
  {
   "cell_type": "code",
   "execution_count": 75,
   "id": "178e8e4d-b178-49b5-a27f-b123b57afeaf",
   "metadata": {
    "tags": []
   },
   "outputs": [
    {
     "data": {
      "text/html": [
       "<div>\n",
       "<style scoped>\n",
       "    .dataframe tbody tr th:only-of-type {\n",
       "        vertical-align: middle;\n",
       "    }\n",
       "\n",
       "    .dataframe tbody tr th {\n",
       "        vertical-align: top;\n",
       "    }\n",
       "\n",
       "    .dataframe thead th {\n",
       "        text-align: right;\n",
       "    }\n",
       "</style>\n",
       "<table border=\"1\" class=\"dataframe\">\n",
       "  <thead>\n",
       "    <tr style=\"text-align: right;\">\n",
       "      <th></th>\n",
       "      <th>avg_d_kbps</th>\n",
       "      <th>URDwell2016_RH2016</th>\n",
       "      <th>TDwell2016_TLog2016</th>\n",
       "    </tr>\n",
       "  </thead>\n",
       "  <tbody>\n",
       "    <tr>\n",
       "      <th>count</th>\n",
       "      <td>5.170897e+06</td>\n",
       "      <td>5.170897e+06</td>\n",
       "      <td>5.170897e+06</td>\n",
       "    </tr>\n",
       "    <tr>\n",
       "      <th>mean</th>\n",
       "      <td>9.828963e+04</td>\n",
       "      <td>9.307280e+02</td>\n",
       "      <td>9.949395e+02</td>\n",
       "    </tr>\n",
       "    <tr>\n",
       "      <th>std</th>\n",
       "      <td>1.044673e+05</td>\n",
       "      <td>4.636452e+03</td>\n",
       "      <td>5.000136e+03</td>\n",
       "    </tr>\n",
       "    <tr>\n",
       "      <th>min</th>\n",
       "      <td>1.000000e+00</td>\n",
       "      <td>0.000000e+00</td>\n",
       "      <td>0.000000e+00</td>\n",
       "    </tr>\n",
       "    <tr>\n",
       "      <th>25%</th>\n",
       "      <td>1.807300e+04</td>\n",
       "      <td>0.000000e+00</td>\n",
       "      <td>0.000000e+00</td>\n",
       "    </tr>\n",
       "    <tr>\n",
       "      <th>50%</th>\n",
       "      <td>6.402100e+04</td>\n",
       "      <td>0.000000e+00</td>\n",
       "      <td>0.000000e+00</td>\n",
       "    </tr>\n",
       "    <tr>\n",
       "      <th>75%</th>\n",
       "      <td>1.456950e+05</td>\n",
       "      <td>0.000000e+00</td>\n",
       "      <td>0.000000e+00</td>\n",
       "    </tr>\n",
       "    <tr>\n",
       "      <th>max</th>\n",
       "      <td>2.057789e+06</td>\n",
       "      <td>5.107542e+04</td>\n",
       "      <td>5.843926e+04</td>\n",
       "    </tr>\n",
       "  </tbody>\n",
       "</table>\n",
       "</div>"
      ],
      "text/plain": [
       "         avg_d_kbps  URDwell2016_RH2016  TDwell2016_TLog2016\n",
       "count  5.170897e+06        5.170897e+06         5.170897e+06\n",
       "mean   9.828963e+04        9.307280e+02         9.949395e+02\n",
       "std    1.044673e+05        4.636452e+03         5.000136e+03\n",
       "min    1.000000e+00        0.000000e+00         0.000000e+00\n",
       "25%    1.807300e+04        0.000000e+00         0.000000e+00\n",
       "50%    6.402100e+04        0.000000e+00         0.000000e+00\n",
       "75%    1.456950e+05        0.000000e+00         0.000000e+00\n",
       "max    2.057789e+06        5.107542e+04         5.843926e+04"
      ]
     },
     "execution_count": 75,
     "metadata": {},
     "output_type": "execute_result"
    }
   ],
   "source": [
    "unique_tiles[['avg_d_kbps','URDwell2016_RH2016','TDwell2016_TLog2016']].describe()"
   ]
  },
  {
   "cell_type": "code",
   "execution_count": 74,
   "id": "b92c1e0e-ce32-488d-a17a-8f9dd11585b5",
   "metadata": {
    "tags": []
   },
   "outputs": [
    {
     "data": {
      "text/plain": [
       "0          2019\n",
       "1          2019\n",
       "2          2019\n",
       "3          2019\n",
       "4          2020\n",
       "           ... \n",
       "3902140    2023\n",
       "3902140    2023\n",
       "3902174    2023\n",
       "3902174    2023\n",
       "3902183    2023\n",
       "Name: year, Length: 5170897, dtype: int64"
      ]
     },
     "execution_count": 74,
     "metadata": {},
     "output_type": "execute_result"
    }
   ],
   "source": [
    "unique_tiles['year']"
   ]
  },
  {
   "cell_type": "code",
   "execution_count": 58,
   "id": "facf49ac-fca3-4435-80ab-e05cfc9da2c3",
   "metadata": {
    "tags": []
   },
   "outputs": [
    {
     "name": "stdout",
     "output_type": "stream",
     "text": [
      "<class 'geopandas.geodataframe.GeoDataFrame'>\n",
      "Index: 5170897 entries, 0 to 3902183\n",
      "Data columns (total 30 columns):\n",
      " #   Column                        Dtype   \n",
      "---  ------                        -----   \n",
      " 0   quadkey                       int64   \n",
      " 1   geometry                      geometry\n",
      " 2   avg_d_kbps                    int64   \n",
      " 3   avg_u_kbps                    int64   \n",
      " 4   avg_lat_ms                    int64   \n",
      " 5   tests                         int64   \n",
      " 6   devices                       int64   \n",
      " 7   conn_type                     object  \n",
      " 8   year                          int64   \n",
      " 9   quarter                       int64   \n",
      " 10  PCPUID                        object  \n",
      " 11  pc_area                       float64 \n",
      " 12  hex_area                      float64 \n",
      " 13  hex_frac                      float64 \n",
      " 14  pc_frac                       float64 \n",
      " 15  HEXUID_PCPUID                 object  \n",
      " 16  PRCODE                        object  \n",
      " 17  PCNAME                        object  \n",
      " 18  PCCLASS                       object  \n",
      " 19  Pop2016                       float64 \n",
      " 20  TDwell2016_TLog2016           float64 \n",
      " 21  URDwell2016_RH2016            float64 \n",
      " 22  PHH_Count                     float64 \n",
      " 23  Common_Type                   float64 \n",
      " 24  Pop2016_at_50_10_Combined     float64 \n",
      " 25  TDwell2016_at_50_10_Combined  float64 \n",
      " 26  URDwell_at_50_10_Combined     float64 \n",
      " 27  Pop_Avail_50_10               float64 \n",
      " 28  TDwell_Avail_50_10            float64 \n",
      " 29  URDwell_Avail_50_10           float64 \n",
      "dtypes: float64(15), geometry(1), int64(8), object(6)\n",
      "memory usage: 1.2+ GB\n"
     ]
    }
   ],
   "source": [
    "unique_tiles.info()"
   ]
  },
  {
   "cell_type": "code",
   "execution_count": 77,
   "id": "a85e8c7e-28d0-41e5-86d3-5aa5d75ca800",
   "metadata": {
    "tags": []
   },
   "outputs": [],
   "source": [
    "unique_tiles\n",
    "# tiles_1000 = unique_tiles[unique_tiles['year'] == 2016]\n",
    "tiles_1000 = unique_tiles.sample(n=5000, replace=False, random_state=42)\n"
   ]
  },
  {
   "cell_type": "code",
   "execution_count": 86,
   "id": "ce82d17b-7345-49e6-97f2-0a89feb18732",
   "metadata": {
    "tags": []
   },
   "outputs": [
    {
     "data": {
      "text/plain": [
       "<Figure size 1000x600 with 0 Axes>"
      ]
     },
     "metadata": {},
     "output_type": "display_data"
    },
    {
     "data": {
      "image/png": "[encoded data removed]",
      "text/plain": [
       "<Figure size 640x480 with 1 Axes>"
      ]
     },
     "metadata": {},
     "output_type": "display_data"
    }
   ],
   "source": [
    "# Data Visualization\n",
    "plt.figure(figsize=(10, 6))\n",
    "tiles_1000.plot(kind='scatter', x='Pop2016_at_50_10_Combined', y='avg_d_kbps')\n",
    "plt.xlabel('the proportion of urban dwellings or housing units with a specific type of heating system in a specific location in the year 2016')\n",
    "plt.ylabel('Average Download Speed (kbps)')\n",
    "plt.title('Relationship between Download Speed and URDwell2016_RH2016')\n",
    "plt.show()"
   ]
  },
  {
   "cell_type": "code",
   "execution_count": null,
   "id": "b58e8124-c298-4886-8fe7-2fb18cc68170",
   "metadata": {},
   "outputs": [],
   "source": []
  },
  {
   "cell_type": "code",
   "execution_count": 11,
   "id": "ad6c4777-19e1-42f6-aac1-102e5bc4414d",
   "metadata": {
    "tags": []
   },
   "outputs": [],
   "source": [
    "popctrs = statcan.boundary('population_centres')"
   ]
  },
  {
   "cell_type": "code",
   "execution_count": null,
   "id": "38f2157d-d1ea-4b90-aa47-e8c08932cb9f",
   "metadata": {},
   "outputs": [],
   "source": []
  },
  {
   "cell_type": "code",
   "execution_count": null,
   "id": "aa2011c0-0330-4c5c-bb15-706aeaf2e73a",
   "metadata": {},
   "outputs": [],
   "source": []
  }
 ],
 "metadata": {
  "kernelspec": {
   "display_name": "Python 3 (ipykernel)",
   "language": "python",
   "name": "python3"
  },
  "language_info": {
   "codemirror_mode": {
    "name": "ipython",
    "version": 3
   },
   "file_extension": ".py",
   "mimetype": "text/x-python",
   "name": "python",
   "nbconvert_exporter": "python",
   "pygments_lexer": "ipython3",
   "version": "3.10.10"
  }
 },
 "nbformat": 4,
 "nbformat_minor": 5
}
